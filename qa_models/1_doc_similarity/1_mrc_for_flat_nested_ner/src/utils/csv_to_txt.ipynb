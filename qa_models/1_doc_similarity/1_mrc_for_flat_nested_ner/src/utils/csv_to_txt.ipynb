{
 "cells": [
  {
   "cell_type": "code",
   "execution_count": 33,
   "metadata": {},
   "outputs": [],
   "source": [
    "import csv\n",
    "import os\n",
    "import pandas as pd"
   ]
  },
  {
   "cell_type": "code",
   "execution_count": 2,
   "metadata": {},
   "outputs": [
    {
     "name": "stdout",
     "output_type": "stream",
     "text": [
      "/home/tlf/Documents/mestrado/ner_llm/mrc-for-flat-nested-ner/data/data_processing\n"
     ]
    }
   ],
   "source": [
    "print(os.getcwd())"
   ]
  },
  {
   "cell_type": "code",
   "execution_count": 3,
   "metadata": {},
   "outputs": [],
   "source": [
    "def transform_csv_to_txt(csv_file, txt_file):\n",
    "    with open(csv_file, 'r') as csv_file:\n",
    "        csv_reader = csv.reader(csv_file, delimiter=',')\n",
    "        \n",
    "        with open(txt_file, 'w') as txt_file:\n",
    "            current_report = None\n",
    "            for row in csv_reader:\n",
    "                if not row[0].isdigit():\n",
    "                    continue  # Ignore rows that don't start with a number\n",
    "                \n",
    "                _, report, token, tag, iob_tag, iobes_tag = row\n",
    "                if current_report is None:\n",
    "                    current_report = report\n",
    "                    txt_file.write(\"\\n\")\n",
    "                \n",
    "                if current_report != report:\n",
    "                    txt_file.write(\"\\n\")\n",
    "                    current_report = report\n",
    "                \n",
    "                txt_file.write(f\"{token} {iobes_tag}\\n\")"
   ]
  },
  {
   "cell_type": "code",
   "execution_count": 8,
   "metadata": {},
   "outputs": [],
   "source": [
    "if __name__ == \"__main__\":\n",
    "    input_file_csv = '/home/tlf/Documents/mestrado/ner_llm/data/df_tokens_labeled_iobes.csv'\n",
    "    output_file_txt = 'laudos_1_962.bmes'\n",
    "    transform_csv_to_txt(input_file_csv, output_file_txt)"
   ]
  },
  {
   "cell_type": "markdown",
   "metadata": {},
   "source": [
    "# Split Train / Dev / Test"
   ]
  },
  {
   "cell_type": "markdown",
   "metadata": {},
   "source": [
    "### Using CSV"
   ]
  },
  {
   "cell_type": "code",
   "execution_count": 34,
   "metadata": {},
   "outputs": [],
   "source": [
    "def transform_csv_to_txt(csv_file, txt_file, begin_idx, end_idx):\n",
    "    with open(csv_file, 'r') as csv_file:\n",
    "        csv_reader = csv.reader(csv_file, delimiter=',')\n",
    "        \n",
    "        with open(txt_file, 'w') as txt_file:\n",
    "            current_report = None\n",
    "            for row in csv_reader:\n",
    "                if not row[0].isdigit():\n",
    "                    continue  # Ignore rows that don't start with a number\n",
    "                \n",
    "                _, report, token, tag, iob_tag, iobes_tag = row\n",
    "\n",
    "                if int(report) >= begin_idx and int(report) <= end_idx:\n",
    "                    if current_report is None:\n",
    "                        current_report = report\n",
    "                        txt_file.write(\"\\n\")\n",
    "                    \n",
    "                    if current_report != report:\n",
    "                        txt_file.write(\"\\n\")\n",
    "                        current_report = report\n",
    "                        \n",
    "                elif int(report) < begin_idx:\n",
    "                    continue\n",
    "                else:\n",
    "                    break\n",
    "                \n",
    "                txt_file.write(f\"{token} {iobes_tag}\\n\")"
   ]
  },
  {
   "cell_type": "markdown",
   "metadata": {},
   "source": [
    "### Using pandas "
   ]
  },
  {
   "cell_type": "code",
   "execution_count": 35,
   "metadata": {},
   "outputs": [],
   "source": [
    "def transform_csv_to_txt(csv_file, txt_file, begin_idx, end_idx):\n",
    "    # Read CSV into a pandas DataFrame\n",
    "    df = pd.read_csv(csv_file, index_col=0)\n",
    "    \n",
    "    with open(txt_file, 'w') as txt_file:\n",
    "        current_report = None\n",
    "        for index, row in df.iterrows():\n",
    "            if not str(row[0]).isdigit():\n",
    "                continue  # Ignore rows that don't start with a number\n",
    "            \n",
    "            report, token, tag, iob_tag, iobes_tag = row\n",
    "\n",
    "            if int(report) >= begin_idx and int(report) <= end_idx:\n",
    "                if current_report is None:\n",
    "                    current_report = report\n",
    "                    txt_file.write(\"\\n\")\n",
    "                \n",
    "                if current_report != report:\n",
    "                    txt_file.write(\"\\n\")\n",
    "                    current_report = report\n",
    "                    \n",
    "            elif int(report) < begin_idx:\n",
    "                continue\n",
    "            else:\n",
    "                break\n",
    "            \n",
    "            txt_file.write(f\"{token} {iobes_tag}\\n\")"
   ]
  },
  {
   "cell_type": "markdown",
   "metadata": {},
   "source": [
    "#### TRAIN"
   ]
  },
  {
   "cell_type": "code",
   "execution_count": null,
   "metadata": {},
   "outputs": [],
   "source": [
    "if __name__ == \"__main__\":\n",
    "    input_file_csv = '/home/tlf/Documents/mestrado/ner_llm/data/df_tokens_labeled_iobes.csv'\n",
    "    output_file_txt = 'laudos_400_500.bmes'\n",
    "    transform_csv_to_txt(input_file_csv, output_file_txt, 400, 500)"
   ]
  },
  {
   "cell_type": "markdown",
   "metadata": {},
   "source": [
    "#### TEST"
   ]
  },
  {
   "cell_type": "code",
   "execution_count": 10,
   "metadata": {},
   "outputs": [],
   "source": [
    "if __name__ == \"__main__\":\n",
    "    input_file_csv = '/home/tlf/Documents/mestrado/ner_llm/data/df_tokens_labeled_iobes.csv'\n",
    "    output_file_txt = 'laudos_102_202.bmes'\n",
    "    transform_csv_to_txt(input_file_csv, output_file_txt, 102, 202)"
   ]
  },
  {
   "cell_type": "markdown",
   "metadata": {},
   "source": [
    "#### TRAIN2"
   ]
  },
  {
   "cell_type": "code",
   "execution_count": 37,
   "metadata": {},
   "outputs": [],
   "source": [
    "if __name__ == \"__main__\":\n",
    "    input_file_csv = '/home/tlf/Documents/mestrado/ner_llm/data/df_tokens_labeled_iobes.csv'\n",
    "    output_file_txt = '/home/tlf/Documents/mestrado/ner_llm/mrc-for-flat-nested-ner/data/laudos_1_862.bmes'\n",
    "    transform_csv_to_txt(input_file_csv, output_file_txt, 1, 862)"
   ]
  },
  {
   "cell_type": "markdown",
   "metadata": {},
   "source": [
    "#### TEST2"
   ]
  },
  {
   "cell_type": "code",
   "execution_count": 32,
   "metadata": {},
   "outputs": [],
   "source": [
    "if __name__ == \"__main__\":\n",
    "    input_file_csv = '/home/tlf/Documents/mestrado/ner_llm/data/df_tokens_labeled_iobes.csv'\n",
    "    output_file_txt = '/home/tlf/Documents/mestrado/ner_llm/mrc-for-flat-nested-ner/data/laudos_863_962.bmes'\n",
    "    transform_csv_to_txt(input_file_csv, output_file_txt, 863, 962)"
   ]
  }
 ],
 "metadata": {
  "kernelspec": {
   "display_name": "mrc_env",
   "language": "python",
   "name": "python3"
  },
  "language_info": {
   "codemirror_mode": {
    "name": "ipython",
    "version": 3
   },
   "file_extension": ".py",
   "mimetype": "text/x-python",
   "name": "python",
   "nbconvert_exporter": "python",
   "pygments_lexer": "ipython3",
   "version": "3.8.18"
  }
 },
 "nbformat": 4,
 "nbformat_minor": 2
}
