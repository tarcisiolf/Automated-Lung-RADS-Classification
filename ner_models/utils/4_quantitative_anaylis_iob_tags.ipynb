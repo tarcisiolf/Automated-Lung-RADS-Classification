{
 "cells": [
  {
   "cell_type": "code",
   "execution_count": 1,
   "id": "03d35df0",
   "metadata": {},
   "outputs": [],
   "source": [
    "import pandas as pd\n",
    "import numpy as np"
   ]
  },
  {
   "cell_type": "markdown",
   "id": "27d45c71",
   "metadata": {},
   "source": [
    "## Tokens Dataset"
   ]
  },
  {
   "cell_type": "code",
   "execution_count": 2,
   "id": "891b6e29",
   "metadata": {},
   "outputs": [],
   "source": [
    "data = pd.read_csv(\"laudos_1_963_iob_wt_abd.csv\", encoding = 'utf-8', index_col=0)"
   ]
  },
  {
   "cell_type": "code",
   "execution_count": 3,
   "id": "a775bb7c",
   "metadata": {},
   "outputs": [],
   "source": [
    "tags_count = data.tag.value_counts()"
   ]
  },
  {
   "cell_type": "code",
   "execution_count": null,
   "id": "99ba5700",
   "metadata": {},
   "outputs": [],
   "source": [
    "tags_count"
   ]
  },
  {
   "cell_type": "code",
   "execution_count": 6,
   "id": "072ca098",
   "metadata": {},
   "outputs": [],
   "source": [
    "total_tokens = tags_count.sum()"
   ]
  },
  {
   "cell_type": "code",
   "execution_count": null,
   "id": "c412abd6",
   "metadata": {},
   "outputs": [],
   "source": [
    "total_tokens"
   ]
  },
  {
   "cell_type": "code",
   "execution_count": 8,
   "id": "2428a5e0",
   "metadata": {},
   "outputs": [],
   "source": [
    "ntr_o = (tags_count[0]/total_tokens)*100\n",
    "ntr_b_achado = (tags_count[4]/total_tokens)*100\n",
    "ntr_i_achado = (tags_count[6]/total_tokens)*100\n",
    "ntr_b_atenucao = (tags_count[11]/total_tokens)*100\n",
    "ntr_i_atenuacao = (tags_count[8]/total_tokens)*100\n",
    "ntr_b_bordas = (tags_count[12]/total_tokens)*100\n",
    "ntr_i_bordas = (tags_count[10]/total_tokens)*100\n",
    "ntr_b_calcificacao = (tags_count[7]/total_tokens)*100\n",
    "ntr_i_calcificacao = (tags_count[9]/total_tokens)*100\n",
    "ntr_b_localizacao = (tags_count[3]/total_tokens)*100\n",
    "ntr_i_localizacao = (tags_count[1]/total_tokens)*100\n",
    "ntr_b_tamanho = (tags_count[5]/total_tokens)*100\n",
    "ntr_i_tamanho = (tags_count[2]/total_tokens)*100"
   ]
  },
  {
   "cell_type": "code",
   "execution_count": null,
   "id": "75085f23",
   "metadata": {
    "scrolled": true
   },
   "outputs": [],
   "source": [
    "print(round(ntr_b_achado, 2))\n",
    "print(round(ntr_i_achado, 2))\n",
    "print()\n",
    "print(round(ntr_b_atenucao, 2))\n",
    "print(round(ntr_i_atenuacao, 2))\n",
    "print()\n",
    "print(round(ntr_b_bordas, 2))\n",
    "print(round(ntr_i_bordas, 2))\n",
    "print()\n",
    "print(round(ntr_b_calcificacao, 2))\n",
    "print(round(ntr_i_calcificacao, 2))\n",
    "print()\n",
    "print(round(ntr_b_localizacao, 2))\n",
    "print(round(ntr_i_localizacao, 2))\n",
    "print()\n",
    "print(round(ntr_b_tamanho, 2))\n",
    "print(round(ntr_i_tamanho, 2))\n",
    "print()\n",
    "print(round(ntr_o, 2))"
   ]
  },
  {
   "cell_type": "markdown",
   "id": "405c7f29",
   "metadata": {},
   "source": [
    "# Unique Tokens Dataset"
   ]
  },
  {
   "cell_type": "code",
   "execution_count": 41,
   "id": "e1ca06ac",
   "metadata": {},
   "outputs": [],
   "source": [
    "data_b_achado = data[data.tag == 'B-Achado']\n",
    "data_i_achado = data[data.tag == 'I-Achado']\n",
    "data_b_atenuacao = data[data.tag == 'B-Atenuação']\n",
    "data_i_atenuacao = data[data.tag == 'I-Atenuação']\n",
    "data_b_bordas = data[data.tag == 'B-Bordas']\n",
    "data_i_bordas = data[data.tag == 'I-Bordas']\n",
    "data_b_calcificacao = data[data.tag == 'B-Calcificação']\n",
    "data_i_calcificacao = data[data.tag == 'I-Calcificação']\n",
    "data_b_localizacao = data[data.tag == 'B-Localização']\n",
    "data_i_localizacao = data[data.tag == 'I-Localização']\n",
    "data_b_tamanho = data[data.tag == 'B-Tamanho']\n",
    "data_i_tamanho = data[data.tag == 'I-Tamanho']\n",
    "data_o = data[data.tag == 'O']"
   ]
  },
  {
   "cell_type": "markdown",
   "id": "46f1f26a",
   "metadata": {},
   "source": [
    "# Unique Tokens Entity Dataset"
   ]
  },
  {
   "cell_type": "code",
   "execution_count": 42,
   "id": "45ad59a4",
   "metadata": {
    "scrolled": true
   },
   "outputs": [],
   "source": [
    "ndt_b_achado = len(data_b_achado.word.unique())\n",
    "ndt_i_achado = len(data_i_achado.word.unique())\n",
    "\n",
    "ndt_b_atenuacao = len(data_b_atenuacao.word.unique())\n",
    "ndt_i_atenuacao = len(data_i_atenuacao.word.unique())\n",
    "\n",
    "ndt_b_bordas = len(data_b_bordas.word.unique())\n",
    "ndt_i_bordas = len(data_i_bordas.word.unique())\n",
    "\n",
    "ndt_b_calcificacao = len(data_b_calcificacao.word.unique())\n",
    "ndt_i_calcificacao = len(data_i_calcificacao.word.unique())\n",
    "\n",
    "ndt_b_localizacao = len(data_b_localizacao.word.unique())\n",
    "ndt_i_localizacao = len(data_i_localizacao.word.unique())\n",
    "\n",
    "ndt_b_tamanho = len(data_b_tamanho.word.unique())\n",
    "ndt_i_tamanho = len(data_i_tamanho.word.unique())\n",
    "\n",
    "ndt_o = len(data_o.word.unique())"
   ]
  },
  {
   "cell_type": "code",
   "execution_count": null,
   "id": "d78d333b",
   "metadata": {},
   "outputs": [],
   "source": [
    "print(round(ndt_b_achado, 2))\n",
    "print(round(ndt_i_achado, 2))\n",
    "print()\n",
    "print(round(ndt_b_atenuacao, 2))\n",
    "print(round(ndt_i_atenuacao, 2))\n",
    "print()\n",
    "print(round(ndt_b_bordas, 2))\n",
    "print(round(ndt_i_bordas, 2))\n",
    "print()\n",
    "print(round(ndt_b_calcificacao, 2))\n",
    "print(round(ndt_i_calcificacao, 2))\n",
    "print()\n",
    "print(round(ndt_b_localizacao, 2))\n",
    "print(round(ndt_i_localizacao, 2))\n",
    "print()\n",
    "print(round(ndt_b_tamanho, 2))\n",
    "print(round(ndt_i_tamanho, 2))\n",
    "print()\n",
    "print(round(ndt_o, 2))"
   ]
  },
  {
   "cell_type": "code",
   "execution_count": 45,
   "id": "d5c44e7b",
   "metadata": {},
   "outputs": [],
   "source": [
    "ndt_unique = (ndt_b_achado + ndt_i_achado\n",
    "             + ndt_b_atenuacao + ndt_i_atenuacao\n",
    "             + ndt_b_bordas + ndt_i_bordas\n",
    "             + ndt_b_calcificacao + ndt_i_calcificacao\n",
    "             + ndt_b_localizacao + ndt_i_localizacao\n",
    "             + ndt_b_tamanho + ndt_i_tamanho\n",
    "             + ndt_o)"
   ]
  },
  {
   "cell_type": "code",
   "execution_count": null,
   "id": "519d9267",
   "metadata": {},
   "outputs": [],
   "source": [
    "print(ndt_unique)"
   ]
  },
  {
   "cell_type": "code",
   "execution_count": 47,
   "id": "5911973a",
   "metadata": {},
   "outputs": [],
   "source": [
    "ndtr_b_achado = (ndt_b_achado/ndt_unique)*100\n",
    "ndtr_i_achado = (ndt_i_achado/ndt_unique)*100\n",
    "\n",
    "ndtr_b_atenuacao = (ndt_b_atenuacao/ndt_unique)*100\n",
    "ndtr_i_atenuacao = (ndt_i_atenuacao/ndt_unique)*100\n",
    "\n",
    "ndtr_b_bordas = (ndt_b_bordas/ndt_unique)*100\n",
    "ndtr_i_bordas = (ndt_i_bordas/ndt_unique)*100\n",
    "\n",
    "ndtr_b_calcificacao = (ndt_b_calcificacao/ndt_unique)*100\n",
    "ndtr_i_calcificacao = (ndt_i_calcificacao/ndt_unique)*100\n",
    "\n",
    "ndtr_b_localizacao = (ndt_b_localizacao/ndt_unique)*100\n",
    "ndtr_i_localizacao = (ndt_i_localizacao/ndt_unique)*100\n",
    "\n",
    "ndtr_b_tamanho = (ndt_b_tamanho/ndt_unique)*100\n",
    "ndtr_i_tamanho = (ndt_i_tamanho/ndt_unique)*100\n",
    "\n",
    "ndtr_o = (ndt_o/ndt_unique)*100"
   ]
  },
  {
   "cell_type": "code",
   "execution_count": null,
   "id": "ef4e23bb",
   "metadata": {
    "scrolled": true
   },
   "outputs": [],
   "source": [
    "print(round(ndtr_b_achado, 2))\n",
    "print(round(ndtr_i_achado, 2))\n",
    "print()\n",
    "print(round(ndtr_b_atenuacao, 2))\n",
    "print(round(ndtr_i_atenuacao, 2))\n",
    "print()\n",
    "print(round(ndtr_b_bordas, 2))\n",
    "print(round(ndtr_i_bordas, 2))\n",
    "print()\n",
    "print(round(ndtr_b_calcificacao, 2))\n",
    "print(round(ndtr_i_calcificacao, 2))\n",
    "print()\n",
    "print(round(ndtr_b_localizacao, 2))\n",
    "print(round(ndtr_i_localizacao, 2))\n",
    "print()\n",
    "print(round(ndtr_b_tamanho, 2))\n",
    "print(round(ndtr_i_tamanho, 2))\n",
    "print()\n",
    "print(round(ndtr_o, 2))"
   ]
  },
  {
   "cell_type": "markdown",
   "id": "6b6a8637",
   "metadata": {},
   "source": [
    "# Tokens Test Dataset"
   ]
  },
  {
   "cell_type": "code",
   "execution_count": 27,
   "id": "4bebbee7",
   "metadata": {},
   "outputs": [],
   "source": [
    "import os"
   ]
  },
  {
   "cell_type": "code",
   "execution_count": null,
   "id": "cefb9e90",
   "metadata": {},
   "outputs": [],
   "source": [
    "print(os.getcwd())"
   ]
  },
  {
   "cell_type": "code",
   "execution_count": 29,
   "id": "8c6ef4b6",
   "metadata": {},
   "outputs": [],
   "source": [
    "cwd = \"C:\\\\Users\\\\tarci\\\\Desktop\\\\modelos_mestrado\\\\bilstm_antigo\\\\results\\\\\""
   ]
  },
  {
   "cell_type": "code",
   "execution_count": 30,
   "id": "333d5c75",
   "metadata": {},
   "outputs": [],
   "source": [
    "data_test = pd.read_csv(cwd+\"result_df_model_20.csv\",  encoding = 'utf-8', index_col=0)"
   ]
  },
  {
   "cell_type": "code",
   "execution_count": null,
   "id": "55dad066",
   "metadata": {
    "scrolled": true
   },
   "outputs": [],
   "source": [
    "data_test.head()"
   ]
  },
  {
   "cell_type": "code",
   "execution_count": 32,
   "id": "84836f0d",
   "metadata": {},
   "outputs": [],
   "source": [
    "tags_count_test = data_test.tag.value_counts()"
   ]
  },
  {
   "cell_type": "code",
   "execution_count": null,
   "id": "d5c4547e",
   "metadata": {
    "scrolled": true
   },
   "outputs": [],
   "source": [
    "tags_count_test"
   ]
  },
  {
   "cell_type": "code",
   "execution_count": 34,
   "id": "b14e3659",
   "metadata": {},
   "outputs": [],
   "source": [
    "total_tokens_test = tags_count_test.sum()"
   ]
  },
  {
   "cell_type": "code",
   "execution_count": 35,
   "id": "4771fb59",
   "metadata": {},
   "outputs": [
    {
     "data": {
      "text/plain": [
       "20314"
      ]
     },
     "execution_count": 35,
     "metadata": {},
     "output_type": "execute_result"
    }
   ],
   "source": [
    "total_tokens_test"
   ]
  },
  {
   "cell_type": "code",
   "execution_count": 36,
   "id": "9d8012a8",
   "metadata": {},
   "outputs": [],
   "source": [
    "ntr_o_test = (tags_count_test[0]/total_tokens_test)*100\n",
    "ntr_b_achado_test = (tags_count_test[4]/total_tokens_test)*100\n",
    "ntr_i_achado_test = (tags_count_test[6]/total_tokens_test)*100\n",
    "ntr_b_atenucao_test = (tags_count_test[11]/total_tokens_test)*100\n",
    "ntr_i_atenuacao_test = (tags_count_test[8]/total_tokens_test)*100\n",
    "ntr_b_bordas_test = (tags_count_test[12]/total_tokens_test)*100\n",
    "ntr_i_bordas_test = (tags_count_test[10]/total_tokens_test)*100\n",
    "ntr_b_calcificacao_test = (tags_count_test[7]/total_tokens_test)*100\n",
    "ntr_i_calcificacao_test = (tags_count_test[9]/total_tokens_test)*100\n",
    "ntr_b_localizacao_test = (tags_count_test[3]/total_tokens_test)*100\n",
    "ntr_i_localizacao_test = (tags_count_test[1]/total_tokens_test)*100\n",
    "ntr_b_tamanho_test = (tags_count_test[5]/total_tokens_test)*100\n",
    "ntr_i_tamanho_test = (tags_count_test[2]/total_tokens_test)*100"
   ]
  },
  {
   "cell_type": "code",
   "execution_count": null,
   "id": "d070f1af",
   "metadata": {
    "scrolled": false
   },
   "outputs": [],
   "source": [
    "print(round(ntr_b_achado_test, 3))\n",
    "print(round(ntr_i_achado_test, 3))\n",
    "print()\n",
    "print(round(ntr_b_atenucao_test, 3))\n",
    "print(round(ntr_i_atenuacao_test, 3))\n",
    "print()\n",
    "print(round(ntr_b_bordas_test, 3))\n",
    "print(round(ntr_i_bordas_test, 3))\n",
    "print()\n",
    "print(round(ntr_b_calcificacao_test, 3))\n",
    "print(round(ntr_i_calcificacao_test, 3))\n",
    "print()\n",
    "print(round(ntr_b_localizacao_test, 3))\n",
    "print(round(ntr_i_localizacao_test, 3))\n",
    "print()\n",
    "print(round(ntr_b_tamanho_test, 3))\n",
    "print(round(ntr_i_tamanho_test, 3))\n",
    "print()\n",
    "print(round(ntr_o_test, 3))"
   ]
  },
  {
   "cell_type": "markdown",
   "id": "1e2bf508",
   "metadata": {},
   "source": [
    "# Unique Tokens Test Dataset"
   ]
  },
  {
   "cell_type": "code",
   "execution_count": 38,
   "id": "fa84c5c4",
   "metadata": {},
   "outputs": [],
   "source": [
    "data_b_achado_test = data_test[data_test.tag == 'B-Achado']\n",
    "data_i_achado_test = data_test[data_test.tag == 'I-Achado']\n",
    "data_b_atenuacao_test = data_test[data_test.tag == 'B-Atenuação']\n",
    "data_i_atenuacao_test = data_test[data_test.tag == 'I-Atenuação']\n",
    "data_b_bordas_test = data_test[data_test.tag == 'B-Bordas']\n",
    "data_i_bordas_test = data_test[data_test.tag == 'I-Bordas']\n",
    "data_b_calcificacao_test = data_test[data_test.tag == 'B-Calcificação']\n",
    "data_i_calcificacao_test = data_test[data_test.tag == 'I-Calcificação']\n",
    "data_b_localizacao_test = data_test[data_test.tag == 'B-Localização']\n",
    "data_i_localizacao_test = data_test[data_test.tag == 'I-Localização']\n",
    "data_b_tamanho_test = data_test[data_test.tag == 'B-Tamanho']\n",
    "data_i_tamanho_test = data_test[data_test.tag == 'I-Tamanho']\n",
    "data_o_test = data_test[data_test.tag == 'O']"
   ]
  },
  {
   "cell_type": "markdown",
   "id": "d2fd79c1",
   "metadata": {},
   "source": [
    "# Unique Tokens Entity Test Dataset"
   ]
  },
  {
   "cell_type": "code",
   "execution_count": 39,
   "id": "d10db8f5",
   "metadata": {},
   "outputs": [],
   "source": [
    "ndt_b_achado_test = len(data_b_achado_test.word.unique())\n",
    "ndt_i_achado_test = len(data_i_achado_test.word.unique())\n",
    "\n",
    "ndt_b_atenuacao_test = len(data_b_atenuacao_test.word.unique())\n",
    "ndt_i_atenuacao_test = len(data_i_atenuacao_test.word.unique())\n",
    "\n",
    "ndt_b_bordas_test = len(data_b_bordas_test.word.unique())\n",
    "ndt_i_bordas_test = len(data_i_bordas_test.word.unique())\n",
    "\n",
    "ndt_b_calcificacao_test = len(data_b_calcificacao_test.word.unique())\n",
    "ndt_i_calcificacao_test = len(data_i_calcificacao_test.word.unique())\n",
    "\n",
    "ndt_b_localizacao_test = len(data_b_localizacao_test.word.unique())\n",
    "ndt_i_localizacao_test = len(data_i_localizacao_test.word.unique())\n",
    "\n",
    "ndt_b_tamanho_test = len(data_b_tamanho_test.word.unique())\n",
    "ndt_i_tamanho_test = len(data_i_tamanho_test.word.unique())\n",
    "\n",
    "ndt_o_test = len(data_o_test.word.unique())"
   ]
  },
  {
   "cell_type": "code",
   "execution_count": null,
   "id": "26e40c20",
   "metadata": {},
   "outputs": [],
   "source": [
    "print(round(ndt_b_achado_test, 3))\n",
    "print(round(ndt_i_achado_test, 3))\n",
    "print()\n",
    "print(round(ndt_b_atenuacao_test, 3))\n",
    "print(round(ndt_i_atenuacao_test, 3))\n",
    "print()\n",
    "print(round(ndt_b_bordas_test, 3))\n",
    "print(round(ndt_i_bordas_test, 3))\n",
    "print()\n",
    "print(round(ndt_b_calcificacao_test, 3))\n",
    "print(round(ndt_i_calcificacao_test, 3))\n",
    "print()\n",
    "print(round(ndt_b_localizacao_test, 3))\n",
    "print(round(ndt_i_localizacao_test, 3))\n",
    "print()\n",
    "print(round(ndt_b_tamanho_test, 3))\n",
    "print(round(ndt_i_tamanho_test, 3))\n",
    "print()\n",
    "print(round(ndt_o_test, 3))"
   ]
  },
  {
   "cell_type": "code",
   "execution_count": 41,
   "id": "2cb4c102",
   "metadata": {},
   "outputs": [],
   "source": [
    "ndt_unique_test = (ndt_b_achado_test + ndt_i_achado_test\n",
    "             + ndt_b_atenuacao_test + ndt_i_atenuacao_test\n",
    "             + ndt_b_bordas_test + ndt_i_bordas_test\n",
    "             + ndt_b_calcificacao_test + ndt_i_calcificacao_test\n",
    "             + ndt_b_localizacao_test + ndt_i_localizacao_test\n",
    "             + ndt_b_tamanho_test + ndt_i_tamanho_test\n",
    "             + ndt_o_test)"
   ]
  },
  {
   "cell_type": "code",
   "execution_count": null,
   "id": "04d4201f",
   "metadata": {
    "scrolled": true
   },
   "outputs": [],
   "source": [
    "print(ndt_unique_test)"
   ]
  },
  {
   "cell_type": "code",
   "execution_count": 43,
   "id": "ba299836",
   "metadata": {},
   "outputs": [],
   "source": [
    "ndtr_b_achado_test = (ndt_b_achado_test/ndt_unique_test)*100\n",
    "ndtr_i_achado_test = (ndt_i_achado_test/ndt_unique_test)*100\n",
    "\n",
    "ndtr_b_atenuacao_test = (ndt_b_atenuacao_test/ndt_unique_test)*100\n",
    "ndtr_i_atenuacao_test = (ndt_i_atenuacao_test/ndt_unique_test)*100\n",
    "\n",
    "ndtr_b_bordas_test = (ndt_b_bordas_test/ndt_unique_test)*100\n",
    "ndtr_i_bordas_test = (ndt_i_bordas_test/ndt_unique_test)*100\n",
    "\n",
    "ndtr_b_calcificacao_test = (ndt_b_calcificacao_test/ndt_unique_test)*100\n",
    "ndtr_i_calcificacao_test = (ndt_i_calcificacao_test/ndt_unique_test)*100\n",
    "\n",
    "ndtr_b_localizacao_test = (ndt_b_localizacao_test/ndt_unique_test)*100\n",
    "ndtr_i_localizacao_test = (ndt_i_localizacao_test/ndt_unique_test)*100\n",
    "\n",
    "ndtr_b_tamanho_test = (ndt_b_tamanho_test/ndt_unique_test)*100\n",
    "ndtr_i_tamanho_test = (ndt_i_tamanho_test/ndt_unique_test)*100\n",
    "\n",
    "ndtr_o_test = (ndt_o_test/ndt_unique_test)*100"
   ]
  },
  {
   "cell_type": "code",
   "execution_count": null,
   "id": "d347e073",
   "metadata": {
    "scrolled": true
   },
   "outputs": [],
   "source": [
    "print(round(ndtr_b_achado_test, 3))\n",
    "print(round(ndtr_i_achado_test, 3))\n",
    "print()\n",
    "print(round(ndtr_b_atenuacao_test, 3))\n",
    "print(round(ndtr_i_atenuacao_test, 3))\n",
    "print()\n",
    "print(round(ndtr_b_bordas_test, 3))\n",
    "print(round(ndtr_i_bordas_test, 3))\n",
    "print()\n",
    "print(round(ndtr_b_calcificacao_test, 3))\n",
    "print(round(ndtr_i_calcificacao_test, 3))\n",
    "print()\n",
    "print(round(ndtr_b_localizacao_test, 3))\n",
    "print(round(ndtr_i_localizacao_test, 3))\n",
    "print()\n",
    "print(round(ndtr_b_tamanho_test, 3))\n",
    "print(round(ndtr_i_tamanho_test, 3))\n",
    "print()\n",
    "print(round(ndtr_o_test, 3))"
   ]
  },
  {
   "cell_type": "markdown",
   "id": "79028933",
   "metadata": {},
   "source": [
    "# Tokens Training Dataset"
   ]
  },
  {
   "cell_type": "code",
   "execution_count": 10,
   "id": "8f55fa40",
   "metadata": {},
   "outputs": [],
   "source": [
    "data_train = pd.read_csv(\"train_df.csv\", encoding = 'utf-8', index_col=0)"
   ]
  },
  {
   "cell_type": "code",
   "execution_count": 11,
   "id": "22955a61",
   "metadata": {},
   "outputs": [],
   "source": [
    "tags_count_train = data_train.tag.value_counts()"
   ]
  },
  {
   "cell_type": "code",
   "execution_count": null,
   "id": "9b2c6c90",
   "metadata": {},
   "outputs": [],
   "source": [
    "tags_count_train"
   ]
  },
  {
   "cell_type": "code",
   "execution_count": 13,
   "id": "4f6daa94",
   "metadata": {},
   "outputs": [],
   "source": [
    "total_tokens_train = tags_count_train.sum()"
   ]
  },
  {
   "cell_type": "code",
   "execution_count": null,
   "id": "98de1947",
   "metadata": {
    "scrolled": true
   },
   "outputs": [],
   "source": [
    "total_tokens_train"
   ]
  },
  {
   "cell_type": "code",
   "execution_count": 15,
   "id": "061bd405",
   "metadata": {},
   "outputs": [],
   "source": [
    "ntr_o_train = (tags_count_train[0]/total_tokens_train)*100\n",
    "ntr_b_achado_train = (tags_count_train[4]/total_tokens_train)*100\n",
    "ntr_i_achado_train = (tags_count_train[6]/total_tokens_train)*100\n",
    "ntr_b_atenucao_train = (tags_count_train[11]/total_tokens_train)*100\n",
    "ntr_i_atenuacao_train = (tags_count_train[8]/total_tokens_train)*100\n",
    "ntr_b_bordas_train = (tags_count_train[12]/total_tokens_train)*100\n",
    "ntr_i_bordas_train = (tags_count_train[10]/total_tokens_train)*100\n",
    "ntr_b_calcificacao_train = (tags_count_train[7]/total_tokens_train)*100\n",
    "ntr_i_calcificacao_train = (tags_count_train[9]/total_tokens_train)*100\n",
    "ntr_b_localizacao_train = (tags_count_train[3]/total_tokens_train)*100\n",
    "ntr_i_localizacao_train = (tags_count_train[1]/total_tokens_train)*100\n",
    "ntr_b_tamanho_train = (tags_count_train[5]/total_tokens_train)*100\n",
    "ntr_i_tamanho_train = (tags_count_train[2]/total_tokens_train)*100"
   ]
  },
  {
   "cell_type": "code",
   "execution_count": null,
   "id": "79fd0585",
   "metadata": {},
   "outputs": [],
   "source": [
    "print(round(ntr_b_achado_train, 3))\n",
    "print(round(ntr_i_achado_train, 3))\n",
    "print()\n",
    "print(round(ntr_b_atenucao_train, 3))\n",
    "print(round(ntr_i_atenuacao_train, 3))\n",
    "print()\n",
    "print(round(ntr_b_bordas_train, 3))\n",
    "print(round(ntr_i_bordas_train, 3))\n",
    "print()\n",
    "print(round(ntr_b_calcificacao_train, 3))\n",
    "print(round(ntr_i_calcificacao_train, 3))\n",
    "print()\n",
    "print(round(ntr_b_localizacao_train, 3))\n",
    "print(round(ntr_i_localizacao_train, 3))\n",
    "print()\n",
    "print(round(ntr_b_tamanho_train, 3))\n",
    "print(round(ntr_i_tamanho_train, 3))\n",
    "print()\n",
    "print(round(ntr_o_train, 3))"
   ]
  },
  {
   "cell_type": "markdown",
   "id": "25516622",
   "metadata": {},
   "source": [
    "# Unique Tokens Training Dataset"
   ]
  },
  {
   "cell_type": "code",
   "execution_count": 17,
   "id": "f7deca49",
   "metadata": {},
   "outputs": [],
   "source": [
    "data_b_achado_train = data_train[data_train.tag == 'B-Achado']\n",
    "data_i_achado_train = data_train[data_train.tag == 'I-Achado']\n",
    "data_b_atenuacao_train = data_train[data_train.tag == 'B-Atenuação']\n",
    "data_i_atenuacao_train = data_train[data_train.tag == 'I-Atenuação']\n",
    "data_b_bordas_train = data_train[data_train.tag == 'B-Bordas']\n",
    "data_i_bordas_train = data_train[data_train.tag == 'I-Bordas']\n",
    "data_b_calcificacao_train = data_train[data_train.tag == 'B-Calcificação']\n",
    "data_i_calcificacao_train = data_train[data_train.tag == 'I-Calcificação']\n",
    "data_b_localizacao_train = data_train[data_train.tag == 'B-Localização']\n",
    "data_i_localizacao_train = data_train[data_train.tag == 'I-Localização']\n",
    "data_b_tamanho_train = data_train[data_train.tag == 'B-Tamanho']\n",
    "data_i_tamanho_train = data_train[data_train.tag == 'I-Tamanho']\n",
    "data_o_train = data_train[data_train.tag == 'O']"
   ]
  },
  {
   "cell_type": "code",
   "execution_count": 18,
   "id": "07d936db",
   "metadata": {},
   "outputs": [],
   "source": [
    "ndt_b_achado_train = len(data_b_achado_train.word.unique())\n",
    "ndt_i_achado_train = len(data_i_achado_train.word.unique())\n",
    "\n",
    "ndt_b_atenuacao_train = len(data_b_atenuacao_train.word.unique())\n",
    "ndt_i_atenuacao_train = len(data_i_atenuacao_train.word.unique())\n",
    "\n",
    "ndt_b_bordas_train = len(data_b_bordas_train.word.unique())\n",
    "ndt_i_bordas_train = len(data_i_bordas_train.word.unique())\n",
    "\n",
    "ndt_b_calcificacao_train = len(data_b_calcificacao_train.word.unique())\n",
    "ndt_i_calcificacao_train = len(data_i_calcificacao_train.word.unique())\n",
    "\n",
    "ndt_b_localizacao_train = len(data_b_localizacao_train.word.unique())\n",
    "ndt_i_localizacao_train = len(data_i_localizacao_train.word.unique())\n",
    "\n",
    "ndt_b_tamanho_train = len(data_b_tamanho_train.word.unique())\n",
    "ndt_i_tamanho_train = len(data_i_tamanho_train.word.unique())\n",
    "\n",
    "ndt_o_train = len(data_o_train.word.unique())"
   ]
  },
  {
   "cell_type": "code",
   "execution_count": null,
   "id": "e13d3431",
   "metadata": {
    "scrolled": true
   },
   "outputs": [],
   "source": [
    "print(round(ndt_b_achado_train, 3))\n",
    "print(round(ndt_i_achado_train, 3))\n",
    "print()\n",
    "print(round(ndt_b_atenuacao_train, 3))\n",
    "print(round(ndt_i_atenuacao_train, 3))\n",
    "print()\n",
    "print(round(ndt_b_bordas_train, 3))\n",
    "print(round(ndt_i_bordas_train, 3))\n",
    "print()\n",
    "print(round(ndt_b_calcificacao_train, 3))\n",
    "print(round(ndt_i_calcificacao_train, 3))\n",
    "print()\n",
    "print(round(ndt_b_localizacao_train, 3))\n",
    "print(round(ndt_i_localizacao_train, 3))\n",
    "print()\n",
    "print(round(ndt_b_tamanho_train, 3))\n",
    "print(round(ndt_i_tamanho_train, 3))\n",
    "print()\n",
    "print(round(ndt_o_train, 3))"
   ]
  },
  {
   "cell_type": "code",
   "execution_count": 20,
   "id": "53f7631f",
   "metadata": {},
   "outputs": [],
   "source": [
    "ndt_unique_train = (ndt_b_achado_train + ndt_i_achado_train\n",
    "             + ndt_b_atenuacao_train + ndt_i_atenuacao_train\n",
    "             + ndt_b_bordas_train + ndt_i_bordas_train\n",
    "             + ndt_b_calcificacao_train + ndt_i_calcificacao_train\n",
    "             + ndt_b_localizacao_train + ndt_i_localizacao_train\n",
    "             + ndt_b_tamanho_train + ndt_i_tamanho_train\n",
    "             + ndt_o_train)"
   ]
  },
  {
   "cell_type": "code",
   "execution_count": null,
   "id": "73bff730",
   "metadata": {
    "scrolled": true
   },
   "outputs": [],
   "source": [
    "ndt_unique_train"
   ]
  },
  {
   "cell_type": "code",
   "execution_count": 22,
   "id": "5f337274",
   "metadata": {},
   "outputs": [],
   "source": [
    "ndtr_b_achado_train = (ndt_b_achado_train/ndt_unique_train)*100\n",
    "ndtr_i_achado_train = (ndt_i_achado_train/ndt_unique_train)*100\n",
    "\n",
    "ndtr_b_atenuacao_train = (ndt_b_atenuacao_train/ndt_unique_train)*100\n",
    "ndtr_i_atenuacao_train = (ndt_i_atenuacao_train/ndt_unique_train)*100\n",
    "\n",
    "ndtr_b_bordas_train = (ndt_b_bordas_train/ndt_unique_train)*100\n",
    "ndtr_i_bordas_train = (ndt_i_bordas_train/ndt_unique_train)*100\n",
    "\n",
    "ndtr_b_calcificacao_train = (ndt_b_calcificacao_train/ndt_unique_train)*100\n",
    "ndtr_i_calcificacao_train = (ndt_i_calcificacao_train/ndt_unique_train)*100\n",
    "\n",
    "ndtr_b_localizacao_train = (ndt_b_localizacao_train/ndt_unique_train)*100\n",
    "ndtr_i_localizacao_train = (ndt_i_localizacao_train/ndt_unique_train)*100\n",
    "\n",
    "ndtr_b_tamanho_train = (ndt_b_tamanho_train/ndt_unique_train)*100\n",
    "ndtr_i_tamanho_train = (ndt_i_tamanho_train/ndt_unique_train)*100\n",
    "\n",
    "ndtr_o_train = (ndt_o_train/ndt_unique_train)*100"
   ]
  },
  {
   "cell_type": "code",
   "execution_count": null,
   "id": "6a2089dd",
   "metadata": {},
   "outputs": [],
   "source": [
    "print(round(ndtr_b_achado_train, 3))\n",
    "print(round(ndtr_i_achado_train, 3))\n",
    "print()\n",
    "print(round(ndtr_b_atenuacao_train, 3))\n",
    "print(round(ndtr_i_atenuacao_train, 3))\n",
    "print()\n",
    "print(round(ndtr_b_bordas_train, 3))\n",
    "print(round(ndtr_i_bordas_train, 3))\n",
    "print()\n",
    "print(round(ndtr_b_calcificacao_train, 3))\n",
    "print(round(ndtr_i_calcificacao_train, 3))\n",
    "print()\n",
    "print(round(ndtr_b_localizacao_train, 3))\n",
    "print(round(ndtr_i_localizacao_train, 3))\n",
    "print()\n",
    "print(round(ndtr_b_tamanho_train, 3))\n",
    "print(round(ndtr_i_tamanho_train, 3))\n",
    "print()\n",
    "print(round(ndtr_o_train, 3))"
   ]
  }
 ],
 "metadata": {
  "kernelspec": {
   "display_name": "Python 3 (ipykernel)",
   "language": "python",
   "name": "python3"
  },
  "language_info": {
   "codemirror_mode": {
    "name": "ipython",
    "version": 3
   },
   "file_extension": ".py",
   "mimetype": "text/x-python",
   "name": "python",
   "nbconvert_exporter": "python",
   "pygments_lexer": "ipython3",
   "version": "3.10.11"
  }
 },
 "nbformat": 4,
 "nbformat_minor": 5
}
