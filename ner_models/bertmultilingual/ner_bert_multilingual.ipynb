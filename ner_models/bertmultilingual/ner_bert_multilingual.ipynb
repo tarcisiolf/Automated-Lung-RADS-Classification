{
  "cells": [
    {
      "cell_type": "code",
      "execution_count": 1,
      "metadata": {
        "colab": {
          "base_uri": "https://localhost:8080/"
        },
        "id": "MFAILvREo_Fi",
        "outputId": "705726d8-a559-4282-e610-d944db11d8ca"
      },
      "outputs": [],
      "source": [
        "import warnings\n",
        "warnings.filterwarnings('ignore')\n",
        "\n",
        "import numpy as np\n",
        "import pandas as pd\n",
        "import seaborn as sns\n",
        "import matplotlib.pyplot as plt\n",
        "from tqdm import tqdm\n",
        "\n",
        "import transformers\n",
        "from transformers import AutoTokenizer\n",
        "from transformers import BertForTokenClassification\n",
        "\n",
        "from torch.optim import AdamW\n",
        "\n",
        "import torch\n",
        "from torch import cuda\n",
        "import torch.nn as nn\n",
        "from torch.optim import SGD\n",
        "import torch.nn.functional as F\n",
        "from torch.utils.data import DataLoader\n",
        "\n",
        "from sklearn.metrics import accuracy_score, f1_score, precision_score, recall_score\n",
        "\n",
        "import seqeval\n",
        "\n",
        "from seqeval.metrics import classification_report\n",
        "from seqeval.scheme import IOB2\n",
        "from seqeval.scheme import IOB1\n"
      ]
    },
    {
      "cell_type": "code",
      "execution_count": 2,
      "metadata": {},
      "outputs": [],
      "source": [
        "file_path = r'C:\\Users\\tarci\\OneDrive\\Área de Trabalho\\ner_models\\data\\df_tokens_labeled_iob_bert_format.csv'\n",
        "df_total = pd.read_csv(file_path, encoding='utf-8')\n",
        "df_total.rename(columns = {'text':'sentence', 'iob_labels':'tags'}, inplace = True)"
      ]
    },
    {
      "cell_type": "code",
      "execution_count": 3,
      "metadata": {},
      "outputs": [],
      "source": [
        "train_file_path = r'C:\\Users\\tarci\\OneDrive\\Área de Trabalho\\ner_models\\data\\df_train_tokens_labeled_iob_bert_format.csv'\n",
        "test_file_path = r'C:\\Users\\tarci\\OneDrive\\Área de Trabalho\\ner_models\\data\\df_test_tokens_labeled_iob_bert_format.csv'\n",
        "\n",
        "df_train = pd.read_csv(train_file_path, encoding='utf-8')\n",
        "df_test = pd.read_csv(test_file_path, encoding='utf-8')\n",
        "\n",
        "df_train.rename(columns = {'text':'sentence', 'iob_labels':'tags'}, inplace = True)\n",
        "df_test.rename(columns = {'text':'sentence', 'iob_labels':'tags'}, inplace = True)"
      ]
    },
    {
      "cell_type": "code",
      "execution_count": 5,
      "metadata": {
        "id": "mHllUjkkpKx1"
      },
      "outputs": [],
      "source": [
        "class MultiBertNER(nn.Module):\n",
        "  \"\"\"\n",
        "  Implement NN class based on distilbert pretrained from Hugging face.\n",
        "  Inputs :\n",
        "    tokens_dim : int specifyng the dimension of the classifier\n",
        "  \"\"\"\n",
        "\n",
        "  def __init__(self, tokens_dim):\n",
        "    super(MultiBertNER,self).__init__()\n",
        "\n",
        "    if type(tokens_dim) != int:\n",
        "            raise TypeError('Please tokens_dim should be an integer')\n",
        "\n",
        "    if tokens_dim <= 0:\n",
        "          raise ValueError('Classification layer dimension should be at least 1')\n",
        "\n",
        "    self.pretrained = BertForTokenClassification.from_pretrained(\"bert-base-multilingual-cased\", num_labels = tokens_dim) #set the output of each token classifier = unique_lables\n",
        "\n",
        "\n",
        "  def forward(self, input_ids, attention_mask, labels = None): #labels are needed in order to compute the loss\n",
        "    \"\"\"\n",
        "  Forwad computation of the network\n",
        "  Input:\n",
        "    - inputs_ids : from model tokenizer\n",
        "    - attention :  mask from model tokenizer\n",
        "    - labels : if given the model is able to return the loss value\n",
        "  \"\"\"\n",
        "\n",
        "    #inference time no labels\n",
        "    if labels == None:\n",
        "      out = self.pretrained(input_ids = input_ids, attention_mask = attention_mask )\n",
        "      return out\n",
        "\n",
        "    out = self.pretrained(input_ids = input_ids, attention_mask = attention_mask , labels = labels)\n",
        "    return out"
      ]
    },
    {
      "cell_type": "code",
      "execution_count": 6,
      "metadata": {
        "id": "MN1IUu4opL9u"
      },
      "outputs": [],
      "source": [
        "class NerDataset(torch.utils.data.Dataset):\n",
        "  \"\"\"\n",
        "  Custom dataset implementation to get (text,labels) tuples\n",
        "  Inputs:\n",
        "   - df : dataframe with columns [tags, sentence]\n",
        "  \"\"\"\n",
        "\n",
        "  def __init__(self, df):\n",
        "    if not isinstance(df, pd.DataFrame):\n",
        "      raise TypeError('Input should be a dataframe')\n",
        "\n",
        "    if \"tags\" not in df.columns or \"sentence\" not in df.columns:\n",
        "      raise ValueError(\"Dataframe should contain 'tags' and 'sentence' columns\")\n",
        "\n",
        "    tags_list = [i.split() for i in df[\"tags\"].values.tolist()]\n",
        "    texts = df[\"sentence\"].values.tolist()\n",
        "\n",
        "    self.texts = [tokenizer(text, padding = \"max_length\", max_length = 512, truncation = True, return_tensors = \"pt\") for text in texts]\n",
        "    self.labels = [match_tokens_labels(text, tags) for text,tags in zip(self.texts, tags_list)]\n",
        "\n",
        "  def __len__(self):\n",
        "    return len(self.labels)\n",
        "\n",
        "  def __getitem__(self, idx):\n",
        "    batch_text = self.texts[idx]\n",
        "    batch_labels = self.labels[idx]\n",
        "\n",
        "    return batch_text, torch.LongTensor(batch_labels)"
      ]
    },
    {
      "cell_type": "code",
      "execution_count": 7,
      "metadata": {
        "id": "Iz7N1QYTpR1e"
      },
      "outputs": [],
      "source": [
        "class MetricsTracking():\n",
        "  \"\"\"\n",
        "  In order make the train loop lighter I define this class to track all the metrics that we are going to measure for our model.\n",
        "  \"\"\"\n",
        "  def __init__(self):\n",
        "\n",
        "    self.total_acc = 0\n",
        "    self.total_f1 = 0\n",
        "    self.total_precision = 0\n",
        "    self.total_recall = 0\n",
        "\n",
        "  def update(self, predictions, labels , ignore_token = -100):\n",
        "    '''\n",
        "    Call this function every time you need to update your metrics.\n",
        "    Where in the train there was a -100, were additional token that we dont want to label, so remove them.\n",
        "    If we flatten the batch its easier to access the indexed = -100\n",
        "    '''\n",
        "    predictions = predictions.flatten()\n",
        "    labels = labels.flatten()\n",
        "\n",
        "    predictions = predictions[labels != ignore_token]\n",
        "    labels = labels[labels != ignore_token]\n",
        "\n",
        "    predictions = predictions.to(\"cpu\")\n",
        "    labels = labels.to(\"cpu\")\n",
        "\n",
        "    acc = accuracy_score(labels,predictions)\n",
        "    f1 = f1_score(labels, predictions, average = \"macro\")\n",
        "    precision = precision_score(labels, predictions, average = \"macro\")\n",
        "    recall = recall_score(labels, predictions, average = \"macro\")\n",
        "\n",
        "    self.total_acc  += acc\n",
        "    self.total_f1 += f1\n",
        "    self.total_precision += precision\n",
        "    self.total_recall  += recall\n",
        "\n",
        "  def return_avg_metrics(self,data_loader_size):\n",
        "    n = data_loader_size\n",
        "    metrics = {\n",
        "        \"acc\": round(self.total_acc / n ,3),\n",
        "        \"f1\": round(self.total_f1 / n, 3),\n",
        "        \"precision\" : round(self.total_precision / n, 3),\n",
        "        \"recall\": round(self.total_recall / n, 3)\n",
        "          }\n",
        "    return metrics"
      ]
    },
    {
      "cell_type": "code",
      "execution_count": 8,
      "metadata": {
        "id": "6C4inJMYpTG_"
      },
      "outputs": [],
      "source": [
        "def tags_2_labels(tags : str, tag2idx : dict):\n",
        "  '''\n",
        "  Method that takes a list of tags and a dictionary mapping and returns a list of labels (associated).\n",
        "  Used to create the \"label\" column in df from the \"tags\" column.\n",
        "  '''\n",
        "  return [tag2idx[tag] if tag in tag2idx else unseen_label for tag in tags.split()]"
      ]
    },
    {
      "cell_type": "code",
      "execution_count": 9,
      "metadata": {
        "id": "G2lrlBxYpUS1"
      },
      "outputs": [],
      "source": [
        "def tags_mapping(tags_series : pd.Series):\n",
        "  \"\"\"\n",
        "  tag_series = df column with tags for each sentence.\n",
        "  Returns:\n",
        "    - dictionary mapping tags to indexes (label)\n",
        "    - dictionary mappign inedexes to tags\n",
        "    - The label corresponding to tag 'O'\n",
        "    - A set of unique tags ecountered in the trainind df, this will define the classifier dimension\n",
        "  \"\"\"\n",
        "\n",
        "  if not isinstance(tags_series, pd.Series):\n",
        "      raise TypeError('Input should be a padas Series')\n",
        "\n",
        "  unique_tags = set()\n",
        "\n",
        "  for tag_list in df_train[\"tags\"]:\n",
        "    for tag in tag_list.split():\n",
        "      unique_tags.add(tag)\n",
        "\n",
        "\n",
        "  tag2idx = {k:v for v,k in enumerate(sorted(unique_tags))}\n",
        "  idx2tag = {k:v for v,k in tag2idx.items()}\n",
        "\n",
        "  unseen_label = tag2idx[\"O\"]\n",
        "\n",
        "  return tag2idx, idx2tag, unseen_label, unique_tags"
      ]
    },
    {
      "cell_type": "code",
      "execution_count": 10,
      "metadata": {
        "id": "gcrbUMy0pWPD"
      },
      "outputs": [],
      "source": [
        "def match_tokens_labels(tokenized_input, tags, ignore_token = -100):\n",
        "        '''\n",
        "        Used in the custom dataset.\n",
        "        -100 will be tha label used to match additional tokens like [CLS] [PAD] that we dont care about.\n",
        "        Inputs :\n",
        "          - tokenized_input : tokenizer over the imput text -> {input_ids, attention_mask}\n",
        "          - tags : is a single label array -> [O O O O O O O O O O O O O O B-tim O]\n",
        "\n",
        "        Returns a list of labels that match the tokenized text -> [-100, 3,5,6,-100,...]\n",
        "        '''\n",
        "\n",
        "        #gives an array [ None , 0 , 1 ,2 ,... None]. Each index tells the word of reference of the token\n",
        "        word_ids = tokenized_input.word_ids()\n",
        "\n",
        "        previous_word_idx = None\n",
        "        label_ids = []\n",
        "\n",
        "        for word_idx in word_ids:\n",
        "\n",
        "            if word_idx is None:\n",
        "                label_ids.append(ignore_token)\n",
        "\n",
        "            #if its equal to the previous word we can add the same label id of the provious or -100\n",
        "            else :\n",
        "                try:\n",
        "                  reference_tag = tags[word_idx]\n",
        "                  label_ids.append(tag2idx[reference_tag])\n",
        "                except:\n",
        "                  label_ids.append(ignore_token)\n",
        "\n",
        "            previous_word_idx = word_idx\n",
        "\n",
        "        return label_ids"
      ]
    },
    {
      "cell_type": "code",
      "execution_count": 11,
      "metadata": {},
      "outputs": [],
      "source": [
        "def get_labels_unique_word(tokenized_input, predictions):\n",
        "    word_ids = tokenized_input.word_ids()\n",
        "    \n",
        "    previous_word_idx = -1\n",
        "    unique_tags_pred = []\n",
        "\n",
        "    for word_idx in word_ids:\n",
        "        if word_idx is None or (word_idx == previous_word_idx):\n",
        "            continue\n",
        "\n",
        "        else:\n",
        "            idx_in_word_ids_array = word_ids.index(word_idx)\n",
        "            reference_tag = predictions[idx_in_word_ids_array]\n",
        "            unique_tags_pred.append(idx2tag[reference_tag])\n",
        "\n",
        "        previous_word_idx = word_idx\n",
        "  \n",
        "    return unique_tags_pred"
      ]
    },
    {
      "cell_type": "code",
      "execution_count": 12,
      "metadata": {},
      "outputs": [],
      "source": [
        "def train_loop_wt_eval(model, train_dataset, optimizer,  batch_size, epochs):\n",
        "\n",
        "  train_dataloader = DataLoader(train_dataset, batch_size = batch_size, shuffle = True)\n",
        "\n",
        "  device = torch.device(\"cuda\" if torch.cuda.is_available() else \"cpu\")\n",
        "  model = model.to(device)\n",
        "\n",
        "  for epoch in range(epochs) :\n",
        "\n",
        "    train_metrics = MetricsTracking()\n",
        "    total_loss_train = 0\n",
        "\n",
        "    model.train() #train mode\n",
        "\n",
        "    for train_data, train_label in tqdm(train_dataloader):\n",
        "      train_label = train_label.to(device)\n",
        "      '''\n",
        "      squeeze in order to match the sizes. From [batch,1,seq_len] --> [batch,seq_len]\n",
        "      '''\n",
        "      mask = train_data['attention_mask'].squeeze(1).to(device)\n",
        "      input_id = train_data['input_ids'].squeeze(1).to(device)\n",
        "\n",
        "      optimizer.zero_grad()\n",
        "\n",
        "      output = model(input_id, mask, train_label)\n",
        "      loss, logits = output.loss, output.logits\n",
        "      predictions = logits.argmax(dim= -1)\n",
        "\n",
        "      #compute metrics\n",
        "      train_metrics.update(predictions, train_label)\n",
        "      total_loss_train += loss.item()\n",
        "\n",
        "      #grad step\n",
        "      loss.backward()\n",
        "      optimizer.step()\n",
        "\n",
        "    train_results = train_metrics.return_avg_metrics(len(train_dataloader))\n",
        "\n",
        "    print(f\"TRAIN \\nLoss: {total_loss_train / len(train_dataset)} \\nMetrics {train_results}\\n\" )"
      ]
    },
    {
      "cell_type": "code",
      "execution_count": 22,
      "metadata": {
        "id": "2TGvkq-gpY8l"
      },
      "outputs": [],
      "source": [
        "def train_loop(model, train_dataset, dev_dataset, optimizer,  batch_size, epochs):\n",
        "\n",
        "  train_dataloader = DataLoader(train_dataset, batch_size = batch_size, shuffle = True)\n",
        "  dev_dataloader = DataLoader(dev_dataset, batch_size = batch_size, shuffle = True)\n",
        "\n",
        "  device = torch.device(\"cuda\" if torch.cuda.is_available() else \"cpu\")\n",
        "  model = model.to(device)\n",
        "\n",
        "  for epoch in range(epochs) :\n",
        "\n",
        "    train_metrics = MetricsTracking()\n",
        "    total_loss_train = 0\n",
        "\n",
        "    model.train() #train mode\n",
        "\n",
        "    for train_data, train_label in tqdm(train_dataloader):\n",
        "      train_label = train_label.to(device)\n",
        "      '''\n",
        "      squeeze in order to match the sizes. From [batch,1,seq_len] --> [batch,seq_len]\n",
        "      '''\n",
        "      mask = train_data['attention_mask'].squeeze(1).to(device)\n",
        "      input_id = train_data['input_ids'].squeeze(1).to(device)\n",
        "\n",
        "      optimizer.zero_grad()\n",
        "\n",
        "      output = model(input_id, mask, train_label)\n",
        "      loss, logits = output.loss, output.logits\n",
        "      predictions = logits.argmax(dim= -1)\n",
        "\n",
        "      #compute metrics\n",
        "      train_metrics.update(predictions, train_label)\n",
        "      total_loss_train += loss.item()\n",
        "\n",
        "      #grad step\n",
        "      loss.backward()\n",
        "      optimizer.step()\n",
        "\n",
        "    '''\n",
        "    EVALUATION MODE\n",
        "    '''\n",
        "    model.eval()\n",
        "\n",
        "    dev_metrics = MetricsTracking()\n",
        "    total_loss_dev = 0\n",
        "\n",
        "    with torch.no_grad():\n",
        "      for dev_data, dev_label in dev_dataloader:\n",
        "\n",
        "        dev_label = dev_label.to(device)\n",
        "\n",
        "        mask = dev_data['attention_mask'].squeeze(1).to(device)\n",
        "        input_id = dev_data['input_ids'].squeeze(1).to(device)\n",
        "\n",
        "        output = model(input_id, mask, dev_label)\n",
        "        loss, logits = output.loss, output.logits\n",
        "\n",
        "        \n",
        "        predictions = logits.argmax(dim= -1)\n",
        "\n",
        "        dev_metrics.update(predictions, dev_label)\n",
        "        total_loss_dev += loss.item()\n",
        "\n",
        "    train_results = train_metrics.return_avg_metrics(len(train_dataloader))\n",
        "    dev_results = dev_metrics.return_avg_metrics(len(dev_dataloader))\n",
        "\n",
        "    print(f\"TRAIN \\nLoss: {total_loss_train / len(train_dataset)} \\nMetrics {train_results}\\n\" )\n",
        "    print(f\"VALIDATION \\nLoss {total_loss_dev / len(dev_dataset)} \\nMetrics{dev_results}\\n\" )"
      ]
    },
    {
      "cell_type": "code",
      "execution_count": 13,
      "metadata": {
        "id": "vT61X_VkpauX"
      },
      "outputs": [],
      "source": [
        "#create tag-label mapping\n",
        "#tag2idx, idx2tag , unseen_label, unique_tags = tags_mapping(df_train[\"tags\"])\n",
        "tag2idx, idx2tag , unseen_label, unique_tags = tags_mapping(df_total[\"tags\"])\n",
        "\n",
        "#create the label column from tag. Unseen labels will be tagged as \"O\"\n",
        "#for df in [df_train, df_dev, df_test]:\n",
        "#  df[\"labels\"] = df[\"tags\"].apply(lambda tags : tags_2_labels(tags, tag2idx))\n",
        "\n",
        "for df in [df_train, df_test]:\n",
        "  df[\"labels\"] = df[\"tags\"].apply(lambda tags : tags_2_labels(tags, tag2idx))"
      ]
    },
    {
      "cell_type": "code",
      "execution_count": 14,
      "metadata": {
        "colab": {
          "base_uri": "https://localhost:8080/",
          "height": 145,
          "referenced_widgets": [
            "39fe8c1b26104df3b57f18604311a9e6",
            "9d2adda66a444048b752f2e906232c5f",
            "858e1e7850cf4fd5b7f93db110153cd9",
            "2e9ab2d8f1234e3eaa893bfb1c4f0445",
            "9f71ee12d9324e6f8c3eb06bf3eab1b6",
            "656bf366bf754ca5bab974edf97231c3",
            "ae5f684a4a464d95b1a1fa0baa6cd686",
            "4f6e113453d04940add46d230a2db402",
            "c60fd3d8fdda4d7e929633a92da9544a",
            "f515362c13ac4903874068776715e6dd",
            "fe88843682b141ebac8401788a7dd2cd",
            "6f89de9da2a14fefbd262ca1295e0fd0",
            "22285b38d2d24301a364c86cfd705d8d",
            "e12c8a3a45284c4e993a957b5220de7a",
            "d01737d879764f98978e901ac8583fac",
            "85e53a2faa8a49d0958def1fad676085",
            "7c4bcfe8ad274f398b006bf527c4a83f",
            "46c4e42f9c4b455a8b64abc3cf7f84fe",
            "9b6793d919334c36ae6ddf420be4362c",
            "38b577ec41f542c6b71ab3b0db40c7aa",
            "523cd14fc5db4830bde624c0c99a1346",
            "2acd748b78ba43b78bc5cea34f9c2ac9",
            "8c4df31a7b2b48dba211811f12a4bafa",
            "96d471e3a11741f0b0c9195458ddd664",
            "ea1db2fb51864fb6a109de800ec34aae",
            "f7e1d12304de44aa825173dba36a74bb",
            "d7ab57d14c2b48999528599a24778abf",
            "5b3fa526aa334168856dc935f8ec72fb",
            "bb5515dffd064897a9c3e742defa9262",
            "a6f68f441f7e47f689d836cab5ddc832",
            "ba774d45d1344e77841ada3b1db060fd",
            "0328102fc7634de09e1281a8222161c3",
            "a12510974cc24e638b851d05a1a91728",
            "da89bf6f7d4b40cf9ed3a12d791149c8",
            "e924a8af63ce4d1cb7b03e15b8ce7b66",
            "dc2b16b5a5d549f99a31b5728174c822",
            "899bde7b568d4c14808af74360ced44d",
            "174c335335184438a109b07c03f7d541",
            "07252e7eaa2941f79e862766bd471b55",
            "8d84f7bfe1eb45578918a51c76b1bed9",
            "23a4d52e8e624474aec91045be71e6fe",
            "7969185850b04f82bf1129ca7e2eaef7",
            "e6ee9a2839304e30827cfb4a06647c85",
            "479acf8cae91401d8e0624e208fb5eef"
          ]
        },
        "id": "-D9WuiQipdMg",
        "outputId": "cab32ee6-64d1-4e62-c2b1-6a005af3d0da"
      },
      "outputs": [],
      "source": [
        "#original text\n",
        "#text = df_train[\"sentence\"].values.tolist()\n",
        "text = df_total[\"sentence\"].values.tolist()\n",
        "\n",
        "#toeknized text\n",
        "tokenizer = AutoTokenizer.from_pretrained(\"bert-base-multilingual-cased\")\n",
        "text_tokenized = tokenizer(text , padding = \"max_length\", max_length = 512, truncation = True, return_tensors = \"pt\" )\n",
        "\n",
        "#mapping token to original word\n",
        "word_ids = text_tokenized.word_ids()"
      ]
    },
    {
      "cell_type": "code",
      "execution_count": 15,
      "metadata": {},
      "outputs": [],
      "source": [
        "#datasets\n",
        "train_dataset = NerDataset(df_train)\n",
        "#dev_dataset = NerDataset(df_dev)"
      ]
    },
    {
      "cell_type": "code",
      "execution_count": 16,
      "metadata": {},
      "outputs": [],
      "source": [
        "# Hyperparam\n",
        "learning_rate_hp = [1e-5, 1e-4 ,1e-3]\n",
        "epochs_hp = 5\n",
        "epochs_hp_1 = 10\n",
        "batch_size_hp = [4, 8, 16]"
      ]
    },
    {
      "cell_type": "markdown",
      "metadata": {},
      "source": [
        "## Model Test"
      ]
    },
    {
      "cell_type": "code",
      "execution_count": null,
      "metadata": {},
      "outputs": [],
      "source": [
        "model_test = MultiBertNER(len(unique_tags))\n",
        "optimizer_test = SGD(model_test.parameters(), lr=learning_rate_hp[0], momentum = 0.9)\n",
        "\n",
        "parameters_test = {\n",
        "    \"model\": model_test,\n",
        "    \"train_dataset\": train_dataset,\n",
        "    \"optimizer\" : optimizer_test,\n",
        "    \"batch_size\" : 4,\n",
        "    \"epochs\" : 1\n",
        "}"
      ]
    },
    {
      "cell_type": "code",
      "execution_count": null,
      "metadata": {},
      "outputs": [],
      "source": [
        "train_loop_wt_eval(**parameters_test)"
      ]
    },
    {
      "cell_type": "code",
      "execution_count": 18,
      "metadata": {},
      "outputs": [],
      "source": [
        "dir_path = 'C:\\\\Users\\\\tarci\\\\Desktop\\\\path_model_test\\\\model_test.pth'"
      ]
    },
    {
      "cell_type": "code",
      "execution_count": 23,
      "metadata": {},
      "outputs": [],
      "source": [
        "#torch.save(model_test.state_dict(), dir_path)"
      ]
    },
    {
      "cell_type": "code",
      "execution_count": null,
      "metadata": {},
      "outputs": [],
      "source": [
        "model_load = MultiBertNER(tokens_dim=len(unique_tags))\n",
        "model_load.load_state_dict(torch.load(dir_path))"
      ]
    },
    {
      "cell_type": "code",
      "execution_count": null,
      "metadata": {},
      "outputs": [],
      "source": [
        "parameters_test_load = {\n",
        "    \"model\": model_load,\n",
        "    \"train_dataset\": train_dataset,\n",
        "    \"optimizer\" : optimizer_test,\n",
        "    \"batch_size\" : 4,\n",
        "    \"epochs\" : 5\n",
        "}"
      ]
    },
    {
      "cell_type": "code",
      "execution_count": null,
      "metadata": {},
      "outputs": [],
      "source": [
        "train_loop_wt_eval(**parameters_test_load)"
      ]
    },
    {
      "cell_type": "markdown",
      "metadata": {},
      "source": [
        "## Model 00"
      ]
    },
    {
      "cell_type": "code",
      "execution_count": null,
      "metadata": {},
      "outputs": [],
      "source": [
        "model_00 = MultiBertNER(len(unique_tags))\n",
        "\n",
        "optimizer_00 = SGD(model_00.parameters(), lr=learning_rate_hp[0], momentum = 0.9)\n",
        "\n",
        "parameters_00 = {\n",
        "    \"model\": model_00,\n",
        "    \"train_dataset\": train_dataset,\n",
        "    \"optimizer\" : optimizer_00,\n",
        "    \"epochs\" : epochs_hp,\n",
        "    \"batch_size\" : batch_size_hp[0]\n",
        "}"
      ]
    },
    {
      "cell_type": "code",
      "execution_count": null,
      "metadata": {},
      "outputs": [],
      "source": [
        "train_loop_wt_eval(**parameters_00)"
      ]
    },
    {
      "cell_type": "code",
      "execution_count": 18,
      "metadata": {},
      "outputs": [],
      "source": [
        "#dir_path = ''\n",
        "torch.save(model_00.state_dict(), 'model_00.pth')"
      ]
    },
    {
      "cell_type": "markdown",
      "metadata": {},
      "source": [
        "## Model 01"
      ]
    },
    {
      "cell_type": "code",
      "execution_count": null,
      "metadata": {},
      "outputs": [],
      "source": [
        "model_01 = MultiBertNER(len(unique_tags))\n",
        "optimizer_01 = SGD(model_01.parameters(), lr=learning_rate_hp[0], momentum = 0.9)\n",
        "\n",
        "parameters_01 = {\n",
        "    \"model\": model_01,\n",
        "    \"train_dataset\": train_dataset,\n",
        "    \"optimizer\" : optimizer_01,\n",
        "    \"epochs\" : epochs_hp,\n",
        "    \"batch_size\" : batch_size_hp[1]\n",
        "}"
      ]
    },
    {
      "cell_type": "code",
      "execution_count": null,
      "metadata": {},
      "outputs": [],
      "source": [
        "train_loop_wt_eval(**parameters_01)"
      ]
    },
    {
      "cell_type": "code",
      "execution_count": 18,
      "metadata": {},
      "outputs": [],
      "source": [
        "#dir_path = ''\n",
        "torch.save(model_01.state_dict(), 'model_01.pth')"
      ]
    },
    {
      "cell_type": "markdown",
      "metadata": {},
      "source": [
        "## Model 02"
      ]
    },
    {
      "cell_type": "code",
      "execution_count": null,
      "metadata": {},
      "outputs": [],
      "source": [
        "model_02 = MultiBertNER(len(unique_tags))\n",
        "optimizer_02 = SGD(model_02.parameters(), lr=learning_rate_hp[0], momentum = 0.9)\n",
        "\n",
        "parameters_02 = {\n",
        "    \"model\": model_02,\n",
        "    \"train_dataset\": train_dataset,\n",
        "    \"optimizer\" : optimizer_02,\n",
        "    \"epochs\" : epochs_hp,\n",
        "    \"batch_size\" : batch_size_hp[2]\n",
        "}"
      ]
    },
    {
      "cell_type": "code",
      "execution_count": null,
      "metadata": {},
      "outputs": [],
      "source": [
        "train_loop_wt_eval(**parameters_02)"
      ]
    },
    {
      "cell_type": "code",
      "execution_count": null,
      "metadata": {},
      "outputs": [],
      "source": [
        "#dir_path = ''\n",
        "torch.save(model_02.state_dict(), 'model_02.pth')"
      ]
    },
    {
      "cell_type": "markdown",
      "metadata": {},
      "source": [
        "## Model 03"
      ]
    },
    {
      "cell_type": "code",
      "execution_count": null,
      "metadata": {},
      "outputs": [],
      "source": [
        "model_03 = MultiBertNER(len(unique_tags))\n",
        "optimizer_03 = SGD(model_03.parameters(), lr=learning_rate_hp[1], momentum = 0.9)\n",
        "\n",
        "parameters_03 = {\n",
        "    \"model\": model_03,\n",
        "    \"train_dataset\": train_dataset,\n",
        "    \"optimizer\" : optimizer_03,\n",
        "    \"epochs\" : epochs_hp,\n",
        "    \"batch_size\" : batch_size_hp[0]\n",
        "}"
      ]
    },
    {
      "cell_type": "code",
      "execution_count": null,
      "metadata": {},
      "outputs": [],
      "source": [
        "train_loop_wt_eval(**parameters_03)"
      ]
    },
    {
      "cell_type": "code",
      "execution_count": 21,
      "metadata": {},
      "outputs": [],
      "source": [
        "#dir_path = ''\n",
        "torch.save(model_03.state_dict(), 'model_03.pth')"
      ]
    },
    {
      "cell_type": "markdown",
      "metadata": {},
      "source": [
        "## Model 04"
      ]
    },
    {
      "cell_type": "code",
      "execution_count": null,
      "metadata": {},
      "outputs": [],
      "source": [
        "model_04 = MultiBertNER(len(unique_tags))\n",
        "optimizer_04 = SGD(model_04.parameters(), lr=learning_rate_hp[1], momentum = 0.9)\n",
        "\n",
        "parameters_04 = {\n",
        "    \"model\": model_04,\n",
        "    \"train_dataset\": train_dataset,\n",
        "    \"optimizer\" : optimizer_04,\n",
        "    \"epochs\" : epochs_hp,\n",
        "    \"batch_size\" : batch_size_hp[1]\n",
        "}"
      ]
    },
    {
      "cell_type": "code",
      "execution_count": null,
      "metadata": {},
      "outputs": [],
      "source": [
        "train_loop_wt_eval(**parameters_04)"
      ]
    },
    {
      "cell_type": "code",
      "execution_count": 18,
      "metadata": {},
      "outputs": [],
      "source": [
        "#dir_path = ''\n",
        "torch.save(model_04.state_dict(), 'model_04.pth')"
      ]
    },
    {
      "cell_type": "markdown",
      "metadata": {},
      "source": [
        "## Model 05"
      ]
    },
    {
      "cell_type": "code",
      "execution_count": null,
      "metadata": {},
      "outputs": [],
      "source": [
        "model_05 = MultiBertNER(len(unique_tags))\n",
        "optimizer_05 = SGD(model_05.parameters(), lr=learning_rate_hp[1], momentum = 0.9)\n",
        "\n",
        "parameters_05 = {\n",
        "    \"model\": model_05,\n",
        "    \"train_dataset\": train_dataset,\n",
        "    \"optimizer\" : optimizer_05,\n",
        "    \"epochs\" : epochs_hp,\n",
        "    \"batch_size\" : batch_size_hp[2]\n",
        "}"
      ]
    },
    {
      "cell_type": "code",
      "execution_count": null,
      "metadata": {},
      "outputs": [],
      "source": [
        "train_loop_wt_eval(**parameters_05)"
      ]
    },
    {
      "cell_type": "code",
      "execution_count": 18,
      "metadata": {},
      "outputs": [],
      "source": [
        "#dir_path = ''\n",
        "torch.save(model_05.state_dict(), 'model_05.pth')"
      ]
    },
    {
      "cell_type": "markdown",
      "metadata": {},
      "source": [
        "## Model 06"
      ]
    },
    {
      "cell_type": "code",
      "execution_count": null,
      "metadata": {},
      "outputs": [],
      "source": [
        "model_06 = MultiBertNER(len(unique_tags))\n",
        "optimizer_06 = SGD(model_06.parameters(), lr=learning_rate_hp[2], momentum = 0.9)\n",
        "\n",
        "parameters_06 = {\n",
        "    \"model\": model_06,\n",
        "    \"train_dataset\": train_dataset,\n",
        "    \"optimizer\" : optimizer_06,\n",
        "    \"epochs\" : epochs_hp,\n",
        "    \"batch_size\" : batch_size_hp[0]\n",
        "}"
      ]
    },
    {
      "cell_type": "code",
      "execution_count": null,
      "metadata": {},
      "outputs": [],
      "source": [
        "train_loop_wt_eval(**parameters_06)"
      ]
    },
    {
      "cell_type": "code",
      "execution_count": 19,
      "metadata": {},
      "outputs": [],
      "source": [
        "#dir_path = ''\n",
        "torch.save(model_06.state_dict(), 'model_06.pth')"
      ]
    },
    {
      "cell_type": "markdown",
      "metadata": {},
      "source": [
        "## Model 07"
      ]
    },
    {
      "cell_type": "code",
      "execution_count": null,
      "metadata": {},
      "outputs": [],
      "source": [
        "model_07 = MultiBertNER(len(unique_tags))\n",
        "optimizer_07 = SGD(model_07.parameters(), lr=learning_rate_hp[2], momentum = 0.9)\n",
        "\n",
        "parameters_07 = {\n",
        "    \"model\": model_07,\n",
        "    \"train_dataset\": train_dataset,\n",
        "    \"optimizer\" : optimizer_07,\n",
        "    \"epochs\" : epochs_hp,\n",
        "    \"batch_size\" : batch_size_hp[1]\n",
        "}"
      ]
    },
    {
      "cell_type": "code",
      "execution_count": null,
      "metadata": {},
      "outputs": [],
      "source": [
        "train_loop_wt_eval(**parameters_07)"
      ]
    },
    {
      "cell_type": "code",
      "execution_count": 18,
      "metadata": {},
      "outputs": [],
      "source": [
        "#dir_path = ''\n",
        "torch.save(model_07.state_dict(), 'model_07.pth')"
      ]
    },
    {
      "cell_type": "markdown",
      "metadata": {},
      "source": [
        "## Model 08"
      ]
    },
    {
      "cell_type": "code",
      "execution_count": null,
      "metadata": {},
      "outputs": [],
      "source": [
        "model_08 = MultiBertNER(len(unique_tags))\n",
        "optimizer_08 = SGD(model_08.parameters(), lr=learning_rate_hp[2], momentum = 0.9)\n",
        "\n",
        "parameters_08 = {\n",
        "    \"model\": model_08,\n",
        "    \"train_dataset\": train_dataset,\n",
        "    \"optimizer\" : optimizer_08,\n",
        "    \"epochs\" : epochs_hp,\n",
        "    \"batch_size\" : batch_size_hp[2]\n",
        "}"
      ]
    },
    {
      "cell_type": "code",
      "execution_count": null,
      "metadata": {},
      "outputs": [],
      "source": [
        "train_loop_wt_eval(**parameters_08)"
      ]
    },
    {
      "cell_type": "code",
      "execution_count": 18,
      "metadata": {},
      "outputs": [],
      "source": [
        "#dir_path = ''\n",
        "torch.save(model_08.state_dict(), 'model_08.pth')"
      ]
    },
    {
      "cell_type": "markdown",
      "metadata": {},
      "source": [
        "## Model 09"
      ]
    },
    {
      "cell_type": "code",
      "execution_count": null,
      "metadata": {},
      "outputs": [],
      "source": [
        "epochs_hp = 10\n",
        "model_09 = MultiBertNER(len(unique_tags))\n",
        "optimizer_09 = SGD(model_09.parameters(), lr=learning_rate_hp[2], momentum = 0.9)\n",
        "\n",
        "parameters_09 = {\n",
        "    \"model\": model_09,\n",
        "    \"train_dataset\": train_dataset,\n",
        "    \"optimizer\" : optimizer_09,\n",
        "    \"epochs\" : epochs_hp,\n",
        "    \"batch_size\" : batch_size_hp[0]\n",
        "}"
      ]
    },
    {
      "cell_type": "code",
      "execution_count": null,
      "metadata": {},
      "outputs": [],
      "source": [
        "train_loop_wt_eval(**parameters_09)"
      ]
    },
    {
      "cell_type": "code",
      "execution_count": 19,
      "metadata": {},
      "outputs": [],
      "source": [
        "#dir_path = ''\n",
        "torch.save(model_09.state_dict(), 'model_09.pth')"
      ]
    },
    {
      "cell_type": "markdown",
      "metadata": {},
      "source": [
        "## Model 10"
      ]
    },
    {
      "cell_type": "code",
      "execution_count": null,
      "metadata": {},
      "outputs": [],
      "source": [
        "epochs_hp = 10\n",
        "model_10 = MultiBertNER(len(unique_tags))\n",
        "optimizer_10 = SGD(model_10.parameters(), lr=learning_rate_hp[2], momentum = 0.9)\n",
        "\n",
        "parameters_10 = {\n",
        "    \"model\": model_10,\n",
        "    \"train_dataset\": train_dataset,\n",
        "    \"optimizer\" : optimizer_10,\n",
        "    \"epochs\" : epochs_hp,\n",
        "    \"batch_size\" : batch_size_hp[1]\n",
        "}"
      ]
    },
    {
      "cell_type": "code",
      "execution_count": null,
      "metadata": {},
      "outputs": [],
      "source": [
        "train_loop_wt_eval(**parameters_10)"
      ]
    },
    {
      "cell_type": "code",
      "execution_count": 18,
      "metadata": {},
      "outputs": [],
      "source": [
        "#dir_path = ''\n",
        "torch.save(model_10.state_dict(), 'model_10.pth')"
      ]
    },
    {
      "cell_type": "markdown",
      "metadata": {},
      "source": [
        "## Model 11"
      ]
    },
    {
      "cell_type": "code",
      "execution_count": null,
      "metadata": {},
      "outputs": [],
      "source": [
        "epochs_hp = 10\n",
        "model_11 = MultiBertNER(len(unique_tags))\n",
        "optimizer_11 = SGD(model_11.parameters(), lr=learning_rate_hp[2], momentum = 0.9)\n",
        "\n",
        "parameters_11 = {\n",
        "    \"model\": model_11,\n",
        "    \"train_dataset\": train_dataset,\n",
        "    \"optimizer\" : optimizer_11,\n",
        "    \"epochs\" : epochs_hp,\n",
        "    \"batch_size\" : batch_size_hp[2]\n",
        "}"
      ]
    },
    {
      "cell_type": "code",
      "execution_count": null,
      "metadata": {},
      "outputs": [],
      "source": [
        "train_loop_wt_eval(**parameters_11)"
      ]
    },
    {
      "cell_type": "code",
      "execution_count": 19,
      "metadata": {},
      "outputs": [],
      "source": [
        "#dir_path = ''\n",
        "torch.save(model_11.state_dict(), 'model_11.pth')"
      ]
    },
    {
      "cell_type": "markdown",
      "metadata": {},
      "source": [
        "# Evaluate"
      ]
    },
    {
      "cell_type": "code",
      "execution_count": 20,
      "metadata": {},
      "outputs": [],
      "source": [
        "def retrieve_token_tag_and_tag_pre(text, text_tokenized, tag, predictions, dev_label, tokenizer):\n",
        "    word_ids = text_tokenized.word_ids()\n",
        "    previous_index = None\n",
        "\n",
        "    retrieved_tags_pred = []\n",
        "    retrieved_tags_dev = []\n",
        "    i = 0\n",
        "    predictions = predictions[0]\n",
        "    dev_label = dev_label[0]\n",
        "\n",
        "    input_id = text_tokenized['input_ids']\n",
        "\n",
        "    for word_idx in word_ids:\n",
        "\n",
        "        if word_idx == None:\n",
        "            pass\n",
        "        elif word_idx == previous_index:\n",
        "            pass\n",
        "        else:\n",
        "            retrieved_tags_pred.append(idx2tag[predictions[i]])\n",
        "            if dev_label[i] == -100 or dev_label[i] == \"-100\":\n",
        "                retrieved_tags_dev.append(\"O\")\n",
        "            else:\n",
        "                retrieved_tags_dev.append(idx2tag[dev_label[i]])\n",
        "\n",
        "        i += 1\n",
        "        previous_index = word_idx\n",
        "\n",
        "    return retrieved_tags_dev, retrieved_tags_pred"
      ]
    },
    {
      "cell_type": "code",
      "execution_count": 21,
      "metadata": {},
      "outputs": [],
      "source": [
        "def evaluate_test_texts(model, df_test, batch_size = 1):\n",
        "\n",
        "    dev_dataset = NerDataset(df_test)\n",
        "    dev_dataloader = DataLoader(dev_dataset, batch_size = batch_size, shuffle = False)\n",
        "\n",
        "    device = torch.device(\"cuda\" if torch.cuda.is_available() else \"cpu\")\n",
        "    model = model.to(device)\n",
        "    model.eval()\n",
        "\n",
        "    dev_metrics = MetricsTracking()\n",
        "    total_loss_dev = 0\n",
        "\n",
        "    i = 0\n",
        "\n",
        "    text_labels_dev = []\n",
        "    text_labels_pred = []\n",
        "    with torch.no_grad():\n",
        "        for dev_data, dev_label in dev_dataloader:\n",
        "            dev_label = dev_label.to(device)\n",
        "\n",
        "            mask = dev_data['attention_mask'].squeeze(1).to(device)\n",
        "            input_id = dev_data['input_ids'].squeeze(1).to(device)\n",
        "\n",
        "            output = model(input_id, mask, dev_label)\n",
        "            loss, logits = output.loss, output.logits\n",
        "        \n",
        "            predictions = logits.argmax(dim= -1)\n",
        "\n",
        "            tag = df_test.tags.iloc[i]\n",
        "            text = df_test.sentence.iloc[i]\n",
        "\n",
        "            text_tokenized = tokenizer(text, padding='max_length', max_length = 512, truncation=True, return_tensors=\"pt\")\n",
        "            labels_dev, labels_pred = retrieve_token_tag_and_tag_pre(text, text_tokenized, tag, predictions.tolist(), dev_label.tolist(), tokenizer)\n",
        "            text_labels_dev.append(labels_dev)\n",
        "            text_labels_pred.append(labels_pred)\n",
        "\n",
        "            dev_metrics.update(predictions, dev_label)\n",
        "            total_loss_dev += loss.item()\n",
        "            i += 1\n",
        "            \n",
        "\n",
        "    dev_results = dev_metrics.return_avg_metrics(len(dev_dataloader))\n",
        "\n",
        "    print(f\"VALIDATION \\nLoss {total_loss_dev / len(dev_dataset)} \\nMetrics{dev_results}\\n\" )\n",
        "\n",
        "    return text_labels_dev, text_labels_pred"
      ]
    },
    {
      "cell_type": "markdown",
      "metadata": {},
      "source": [
        "# Carregar Modelos"
      ]
    },
    {
      "cell_type": "markdown",
      "metadata": {},
      "source": [
        "## Model 00"
      ]
    },
    {
      "cell_type": "code",
      "execution_count": null,
      "metadata": {},
      "outputs": [],
      "source": [
        "dir_path = 'C:\\\\Users\\\\tarci\\\\Desktop\\\\path_model_test\\\\model_00.pth'\n",
        "model_00 = MultiBertNER(tokens_dim=len(unique_tags))\n",
        "model_00.load_state_dict(torch.load(dir_path))"
      ]
    },
    {
      "cell_type": "code",
      "execution_count": null,
      "metadata": {},
      "outputs": [],
      "source": [
        "dev_00, pred_00 = evaluate_test_texts(model_00, df_test)"
      ]
    },
    {
      "cell_type": "code",
      "execution_count": 32,
      "metadata": {},
      "outputs": [],
      "source": [
        "result_dict_00 = classification_report(dev_00, pred_00, mode=\"strict\", scheme=IOB2, zero_division=False)"
      ]
    },
    {
      "cell_type": "code",
      "execution_count": null,
      "metadata": {},
      "outputs": [],
      "source": [
        "print(result_dict_00)"
      ]
    },
    {
      "cell_type": "markdown",
      "metadata": {},
      "source": [
        "## Model 01"
      ]
    },
    {
      "cell_type": "code",
      "execution_count": null,
      "metadata": {},
      "outputs": [],
      "source": [
        "dir_path = 'C:\\\\Users\\\\tarci\\\\Desktop\\\\path_model_test\\\\model_01.pth'\n",
        "model_01 = MultiBertNER(tokens_dim=len(unique_tags))\n",
        "model_01.load_state_dict(torch.load(dir_path))"
      ]
    },
    {
      "cell_type": "code",
      "execution_count": null,
      "metadata": {},
      "outputs": [],
      "source": [
        "dev_01, pred_01 = evaluate_test_texts(model_01, df_test)"
      ]
    },
    {
      "cell_type": "code",
      "execution_count": 38,
      "metadata": {},
      "outputs": [],
      "source": [
        "result_dict_01 = classification_report(dev_01, pred_01, mode=\"strict\", scheme=IOB2, zero_division=False)"
      ]
    },
    {
      "cell_type": "code",
      "execution_count": null,
      "metadata": {},
      "outputs": [],
      "source": [
        "print(result_dict_01)"
      ]
    },
    {
      "cell_type": "markdown",
      "metadata": {},
      "source": [
        "## Model 02"
      ]
    },
    {
      "cell_type": "code",
      "execution_count": null,
      "metadata": {},
      "outputs": [],
      "source": [
        "dir_path = 'C:\\\\Users\\\\tarci\\\\Desktop\\\\path_model_test\\\\model_02.pth'\n",
        "model_02 = MultiBertNER(tokens_dim=len(unique_tags))\n",
        "model_02.load_state_dict(torch.load(dir_path))"
      ]
    },
    {
      "cell_type": "code",
      "execution_count": null,
      "metadata": {},
      "outputs": [],
      "source": [
        "dev_02, pred_02 = evaluate_test_texts(model_02, df_test)"
      ]
    },
    {
      "cell_type": "code",
      "execution_count": 42,
      "metadata": {},
      "outputs": [],
      "source": [
        "result_dict_02 = classification_report(dev_02, pred_02, mode=\"strict\", scheme=IOB2, zero_division=False)"
      ]
    },
    {
      "cell_type": "code",
      "execution_count": null,
      "metadata": {},
      "outputs": [],
      "source": [
        "print(result_dict_02)"
      ]
    },
    {
      "cell_type": "markdown",
      "metadata": {},
      "source": [
        "## Model 03"
      ]
    },
    {
      "cell_type": "code",
      "execution_count": null,
      "metadata": {},
      "outputs": [],
      "source": [
        "dir_path = 'C:\\\\Users\\\\tarci\\\\Desktop\\\\path_model_test\\\\model_03.pth'\n",
        "model_03 = MultiBertNER(tokens_dim=len(unique_tags))\n",
        "model_03.load_state_dict(torch.load(dir_path))"
      ]
    },
    {
      "cell_type": "code",
      "execution_count": null,
      "metadata": {},
      "outputs": [],
      "source": [
        "dev_03, pred_03 = evaluate_test_texts(model_03, df_test)"
      ]
    },
    {
      "cell_type": "code",
      "execution_count": 46,
      "metadata": {},
      "outputs": [],
      "source": [
        "result_dict_03 = classification_report(dev_03, pred_03, mode=\"strict\", scheme=IOB2, zero_division=False)"
      ]
    },
    {
      "cell_type": "code",
      "execution_count": null,
      "metadata": {},
      "outputs": [],
      "source": [
        "print(result_dict_03)"
      ]
    },
    {
      "cell_type": "markdown",
      "metadata": {},
      "source": [
        "## Model 04"
      ]
    },
    {
      "cell_type": "code",
      "execution_count": null,
      "metadata": {},
      "outputs": [],
      "source": [
        "dir_path = 'C:\\\\Users\\\\tarci\\\\Desktop\\\\path_model_test\\\\model_04.pth'\n",
        "model_04 = MultiBertNER(tokens_dim=len(unique_tags))\n",
        "model_04.load_state_dict(torch.load(dir_path))"
      ]
    },
    {
      "cell_type": "code",
      "execution_count": null,
      "metadata": {},
      "outputs": [],
      "source": [
        "dev_04, pred_04 = evaluate_test_texts(model_04, df_test)"
      ]
    },
    {
      "cell_type": "code",
      "execution_count": 50,
      "metadata": {},
      "outputs": [],
      "source": [
        "result_dict_04 = classification_report(dev_04, pred_04, mode=\"strict\", scheme=IOB2, zero_division=False)"
      ]
    },
    {
      "cell_type": "code",
      "execution_count": null,
      "metadata": {},
      "outputs": [],
      "source": [
        "print(result_dict_04)"
      ]
    },
    {
      "cell_type": "markdown",
      "metadata": {},
      "source": [
        "## Model 05"
      ]
    },
    {
      "cell_type": "code",
      "execution_count": null,
      "metadata": {},
      "outputs": [],
      "source": [
        "dir_path = 'C:\\\\Users\\\\tarci\\\\Desktop\\\\path_model_test\\\\model_05.pth'\n",
        "model_05 = MultiBertNER(tokens_dim=len(unique_tags))\n",
        "model_05.load_state_dict(torch.load(dir_path))"
      ]
    },
    {
      "cell_type": "code",
      "execution_count": null,
      "metadata": {},
      "outputs": [],
      "source": [
        "dev_05, pred_05 = evaluate_test_texts(model_05, df_test)"
      ]
    },
    {
      "cell_type": "code",
      "execution_count": 54,
      "metadata": {},
      "outputs": [],
      "source": [
        "result_dict_05 = classification_report(dev_05, pred_05, mode=\"strict\", scheme=IOB2, zero_division=False)"
      ]
    },
    {
      "cell_type": "code",
      "execution_count": null,
      "metadata": {},
      "outputs": [],
      "source": [
        "print(result_dict_05)"
      ]
    },
    {
      "cell_type": "markdown",
      "metadata": {},
      "source": [
        "## Model 06"
      ]
    },
    {
      "cell_type": "code",
      "execution_count": null,
      "metadata": {},
      "outputs": [],
      "source": [
        "dir_path = 'C:\\\\Users\\\\tarci\\\\Desktop\\\\path_model_test\\\\model_06.pth'\n",
        "model_06 = MultiBertNER(tokens_dim=len(unique_tags))\n",
        "model_06.load_state_dict(torch.load(dir_path))"
      ]
    },
    {
      "cell_type": "code",
      "execution_count": null,
      "metadata": {},
      "outputs": [],
      "source": [
        "dev_06, pred_06 = evaluate_test_texts(model_06, df_test)"
      ]
    },
    {
      "cell_type": "code",
      "execution_count": 58,
      "metadata": {},
      "outputs": [],
      "source": [
        "result_dict_06 = classification_report(dev_06, pred_06, mode=\"strict\", scheme=IOB2, zero_division=False)"
      ]
    },
    {
      "cell_type": "code",
      "execution_count": null,
      "metadata": {},
      "outputs": [],
      "source": [
        "print(result_dict_06)"
      ]
    },
    {
      "cell_type": "markdown",
      "metadata": {},
      "source": [
        "## Model 07"
      ]
    },
    {
      "cell_type": "code",
      "execution_count": null,
      "metadata": {},
      "outputs": [],
      "source": [
        "dir_path = 'C:\\\\Users\\\\tarci\\\\Desktop\\\\path_model_test\\\\model_07.pth'\n",
        "model_07 = MultiBertNER(tokens_dim=len(unique_tags))\n",
        "model_07.load_state_dict(torch.load(dir_path))"
      ]
    },
    {
      "cell_type": "code",
      "execution_count": null,
      "metadata": {},
      "outputs": [],
      "source": [
        "dev_07, pred_07 = evaluate_test_texts(model_07, df_test)"
      ]
    },
    {
      "cell_type": "code",
      "execution_count": 62,
      "metadata": {},
      "outputs": [],
      "source": [
        "result_dict_07 = classification_report(dev_07, pred_07, mode=\"strict\", scheme=IOB2, zero_division=False)"
      ]
    },
    {
      "cell_type": "code",
      "execution_count": null,
      "metadata": {},
      "outputs": [],
      "source": [
        "print(result_dict_07)"
      ]
    },
    {
      "cell_type": "markdown",
      "metadata": {},
      "source": [
        "## Model 08"
      ]
    },
    {
      "cell_type": "code",
      "execution_count": null,
      "metadata": {},
      "outputs": [],
      "source": [
        "dir_path = 'C:\\\\Users\\\\tarci\\\\Desktop\\\\path_model_test\\\\model_08.pth'\n",
        "model_08 = MultiBertNER(tokens_dim=len(unique_tags))\n",
        "model_08.load_state_dict(torch.load(dir_path))"
      ]
    },
    {
      "cell_type": "code",
      "execution_count": null,
      "metadata": {},
      "outputs": [],
      "source": [
        "dev_08, pred_08 = evaluate_test_texts(model_08, df_test)"
      ]
    },
    {
      "cell_type": "code",
      "execution_count": 67,
      "metadata": {},
      "outputs": [],
      "source": [
        "result_dict_08 = classification_report(dev_08, pred_08, mode=\"strict\", scheme=IOB2, zero_division=False)"
      ]
    },
    {
      "cell_type": "code",
      "execution_count": null,
      "metadata": {},
      "outputs": [],
      "source": [
        "print(result_dict_08)"
      ]
    },
    {
      "cell_type": "markdown",
      "metadata": {},
      "source": [
        "## Model 09"
      ]
    },
    {
      "cell_type": "code",
      "execution_count": null,
      "metadata": {},
      "outputs": [],
      "source": [
        "dir_path = 'C:\\\\Users\\\\tarci\\\\Desktop\\\\path_model_test\\\\model_09.pth'\n",
        "model_09 = MultiBertNER(tokens_dim=len(unique_tags))\n",
        "model_09.load_state_dict(torch.load(dir_path))"
      ]
    },
    {
      "cell_type": "code",
      "execution_count": null,
      "metadata": {},
      "outputs": [],
      "source": [
        "dev_09, pred_09 = evaluate_test_texts(model_09, df_test)"
      ]
    },
    {
      "cell_type": "code",
      "execution_count": 23,
      "metadata": {},
      "outputs": [],
      "source": [
        "result_dict_09 = classification_report(dev_09, pred_09, mode=\"strict\", scheme=IOB2, zero_division=False)"
      ]
    },
    {
      "cell_type": "code",
      "execution_count": null,
      "metadata": {},
      "outputs": [],
      "source": [
        "print(result_dict_09)"
      ]
    },
    {
      "cell_type": "markdown",
      "metadata": {},
      "source": [
        "## Model 10"
      ]
    },
    {
      "cell_type": "code",
      "execution_count": null,
      "metadata": {},
      "outputs": [],
      "source": [
        "dir_path = 'C:\\\\Users\\\\tarci\\\\Desktop\\\\path_model_test\\\\model_10.pth'\n",
        "model_10 = MultiBertNER(tokens_dim=len(unique_tags))\n",
        "model_10.load_state_dict(torch.load(dir_path))"
      ]
    },
    {
      "cell_type": "code",
      "execution_count": null,
      "metadata": {},
      "outputs": [],
      "source": [
        "dev_10, pred_10 = evaluate_test_texts(model_10, df_test)"
      ]
    },
    {
      "cell_type": "code",
      "execution_count": 26,
      "metadata": {},
      "outputs": [],
      "source": [
        "result_dict_10 = classification_report(dev_10, pred_10, mode=\"strict\", scheme=IOB2, zero_division=False)"
      ]
    },
    {
      "cell_type": "code",
      "execution_count": null,
      "metadata": {},
      "outputs": [],
      "source": [
        "print(result_dict_10)"
      ]
    },
    {
      "cell_type": "markdown",
      "metadata": {},
      "source": [
        "## Model 11"
      ]
    },
    {
      "cell_type": "code",
      "execution_count": null,
      "metadata": {},
      "outputs": [],
      "source": [
        "dir_path = 'C:\\\\Users\\\\tarci\\\\Desktop\\\\path_model_test\\\\model_11.pth'\n",
        "model_11 = MultiBertNER(tokens_dim=len(unique_tags))\n",
        "model_11.load_state_dict(torch.load(dir_path))"
      ]
    },
    {
      "cell_type": "code",
      "execution_count": null,
      "metadata": {},
      "outputs": [],
      "source": [
        "dev_11, pred_11 = evaluate_test_texts(model_11, df_test)"
      ]
    },
    {
      "cell_type": "code",
      "execution_count": 27,
      "metadata": {},
      "outputs": [],
      "source": [
        "result_dict_11 = classification_report(dev_11, pred_11, mode=\"strict\", scheme=IOB2, zero_division=False)"
      ]
    },
    {
      "cell_type": "code",
      "execution_count": null,
      "metadata": {},
      "outputs": [],
      "source": [
        "print(result_dict_11)"
      ]
    }
  ],
  "metadata": {
    "colab": {
      "provenance": []
    },
    "kernelspec": {
      "display_name": "Python 3",
      "name": "python3"
    },
    "language_info": {
      "codemirror_mode": {
        "name": "ipython",
        "version": 3
      },
      "file_extension": ".py",
      "mimetype": "text/x-python",
      "name": "python",
      "nbconvert_exporter": "python",
      "pygments_lexer": "ipython3",
      "version": "3.11.4"
    },
    "widgets": {
      "application/vnd.jupyter.widget-state+json": {
        "0328102fc7634de09e1281a8222161c3": {
          "model_module": "@jupyter-widgets/base",
          "model_module_version": "1.2.0",
          "model_name": "LayoutModel",
          "state": {
            "_model_module": "@jupyter-widgets/base",
            "_model_module_version": "1.2.0",
            "_model_name": "LayoutModel",
            "_view_count": null,
            "_view_module": "@jupyter-widgets/base",
            "_view_module_version": "1.2.0",
            "_view_name": "LayoutView",
            "align_content": null,
            "align_items": null,
            "align_self": null,
            "border": null,
            "bottom": null,
            "display": null,
            "flex": null,
            "flex_flow": null,
            "grid_area": null,
            "grid_auto_columns": null,
            "grid_auto_flow": null,
            "grid_auto_rows": null,
            "grid_column": null,
            "grid_gap": null,
            "grid_row": null,
            "grid_template_areas": null,
            "grid_template_columns": null,
            "grid_template_rows": null,
            "height": null,
            "justify_content": null,
            "justify_items": null,
            "left": null,
            "margin": null,
            "max_height": null,
            "max_width": null,
            "min_height": null,
            "min_width": null,
            "object_fit": null,
            "object_position": null,
            "order": null,
            "overflow": null,
            "overflow_x": null,
            "overflow_y": null,
            "padding": null,
            "right": null,
            "top": null,
            "visibility": null,
            "width": null
          }
        },
        "07252e7eaa2941f79e862766bd471b55": {
          "model_module": "@jupyter-widgets/base",
          "model_module_version": "1.2.0",
          "model_name": "LayoutModel",
          "state": {
            "_model_module": "@jupyter-widgets/base",
            "_model_module_version": "1.2.0",
            "_model_name": "LayoutModel",
            "_view_count": null,
            "_view_module": "@jupyter-widgets/base",
            "_view_module_version": "1.2.0",
            "_view_name": "LayoutView",
            "align_content": null,
            "align_items": null,
            "align_self": null,
            "border": null,
            "bottom": null,
            "display": null,
            "flex": null,
            "flex_flow": null,
            "grid_area": null,
            "grid_auto_columns": null,
            "grid_auto_flow": null,
            "grid_auto_rows": null,
            "grid_column": null,
            "grid_gap": null,
            "grid_row": null,
            "grid_template_areas": null,
            "grid_template_columns": null,
            "grid_template_rows": null,
            "height": null,
            "justify_content": null,
            "justify_items": null,
            "left": null,
            "margin": null,
            "max_height": null,
            "max_width": null,
            "min_height": null,
            "min_width": null,
            "object_fit": null,
            "object_position": null,
            "order": null,
            "overflow": null,
            "overflow_x": null,
            "overflow_y": null,
            "padding": null,
            "right": null,
            "top": null,
            "visibility": null,
            "width": null
          }
        },
        "0e6773b289c1457cb2daa6d162990ef4": {
          "model_module": "@jupyter-widgets/controls",
          "model_module_version": "1.5.0",
          "model_name": "HTMLModel",
          "state": {
            "_dom_classes": [],
            "_model_module": "@jupyter-widgets/controls",
            "_model_module_version": "1.5.0",
            "_model_name": "HTMLModel",
            "_view_count": null,
            "_view_module": "@jupyter-widgets/controls",
            "_view_module_version": "1.5.0",
            "_view_name": "HTMLView",
            "description": "",
            "description_tooltip": null,
            "layout": "IPY_MODEL_66e2d73ce36d4afeadc2b3ee40937d64",
            "placeholder": "​",
            "style": "IPY_MODEL_80118975391b4c2c960a1645ccb7106d",
            "value": " 268M/268M [00:03&lt;00:00, 64.2MB/s]"
          }
        },
        "174c335335184438a109b07c03f7d541": {
          "model_module": "@jupyter-widgets/base",
          "model_module_version": "1.2.0",
          "model_name": "LayoutModel",
          "state": {
            "_model_module": "@jupyter-widgets/base",
            "_model_module_version": "1.2.0",
            "_model_name": "LayoutModel",
            "_view_count": null,
            "_view_module": "@jupyter-widgets/base",
            "_view_module_version": "1.2.0",
            "_view_name": "LayoutView",
            "align_content": null,
            "align_items": null,
            "align_self": null,
            "border": null,
            "bottom": null,
            "display": null,
            "flex": null,
            "flex_flow": null,
            "grid_area": null,
            "grid_auto_columns": null,
            "grid_auto_flow": null,
            "grid_auto_rows": null,
            "grid_column": null,
            "grid_gap": null,
            "grid_row": null,
            "grid_template_areas": null,
            "grid_template_columns": null,
            "grid_template_rows": null,
            "height": null,
            "justify_content": null,
            "justify_items": null,
            "left": null,
            "margin": null,
            "max_height": null,
            "max_width": null,
            "min_height": null,
            "min_width": null,
            "object_fit": null,
            "object_position": null,
            "order": null,
            "overflow": null,
            "overflow_x": null,
            "overflow_y": null,
            "padding": null,
            "right": null,
            "top": null,
            "visibility": null,
            "width": null
          }
        },
        "22285b38d2d24301a364c86cfd705d8d": {
          "model_module": "@jupyter-widgets/controls",
          "model_module_version": "1.5.0",
          "model_name": "HTMLModel",
          "state": {
            "_dom_classes": [],
            "_model_module": "@jupyter-widgets/controls",
            "_model_module_version": "1.5.0",
            "_model_name": "HTMLModel",
            "_view_count": null,
            "_view_module": "@jupyter-widgets/controls",
            "_view_module_version": "1.5.0",
            "_view_name": "HTMLView",
            "description": "",
            "description_tooltip": null,
            "layout": "IPY_MODEL_7c4bcfe8ad274f398b006bf527c4a83f",
            "placeholder": "​",
            "style": "IPY_MODEL_46c4e42f9c4b455a8b64abc3cf7f84fe",
            "value": "Downloading (…)lve/main/config.json: 100%"
          }
        },
        "23a4d52e8e624474aec91045be71e6fe": {
          "model_module": "@jupyter-widgets/base",
          "model_module_version": "1.2.0",
          "model_name": "LayoutModel",
          "state": {
            "_model_module": "@jupyter-widgets/base",
            "_model_module_version": "1.2.0",
            "_model_name": "LayoutModel",
            "_view_count": null,
            "_view_module": "@jupyter-widgets/base",
            "_view_module_version": "1.2.0",
            "_view_name": "LayoutView",
            "align_content": null,
            "align_items": null,
            "align_self": null,
            "border": null,
            "bottom": null,
            "display": null,
            "flex": null,
            "flex_flow": null,
            "grid_area": null,
            "grid_auto_columns": null,
            "grid_auto_flow": null,
            "grid_auto_rows": null,
            "grid_column": null,
            "grid_gap": null,
            "grid_row": null,
            "grid_template_areas": null,
            "grid_template_columns": null,
            "grid_template_rows": null,
            "height": null,
            "justify_content": null,
            "justify_items": null,
            "left": null,
            "margin": null,
            "max_height": null,
            "max_width": null,
            "min_height": null,
            "min_width": null,
            "object_fit": null,
            "object_position": null,
            "order": null,
            "overflow": null,
            "overflow_x": null,
            "overflow_y": null,
            "padding": null,
            "right": null,
            "top": null,
            "visibility": null,
            "width": null
          }
        },
        "2acd748b78ba43b78bc5cea34f9c2ac9": {
          "model_module": "@jupyter-widgets/controls",
          "model_module_version": "1.5.0",
          "model_name": "DescriptionStyleModel",
          "state": {
            "_model_module": "@jupyter-widgets/controls",
            "_model_module_version": "1.5.0",
            "_model_name": "DescriptionStyleModel",
            "_view_count": null,
            "_view_module": "@jupyter-widgets/base",
            "_view_module_version": "1.2.0",
            "_view_name": "StyleView",
            "description_width": ""
          }
        },
        "2e9ab2d8f1234e3eaa893bfb1c4f0445": {
          "model_module": "@jupyter-widgets/controls",
          "model_module_version": "1.5.0",
          "model_name": "HTMLModel",
          "state": {
            "_dom_classes": [],
            "_model_module": "@jupyter-widgets/controls",
            "_model_module_version": "1.5.0",
            "_model_name": "HTMLModel",
            "_view_count": null,
            "_view_module": "@jupyter-widgets/controls",
            "_view_module_version": "1.5.0",
            "_view_name": "HTMLView",
            "description": "",
            "description_tooltip": null,
            "layout": "IPY_MODEL_f515362c13ac4903874068776715e6dd",
            "placeholder": "​",
            "style": "IPY_MODEL_fe88843682b141ebac8401788a7dd2cd",
            "value": " 28.0/28.0 [00:00&lt;00:00, 1.09kB/s]"
          }
        },
        "38b577ec41f542c6b71ab3b0db40c7aa": {
          "model_module": "@jupyter-widgets/controls",
          "model_module_version": "1.5.0",
          "model_name": "ProgressStyleModel",
          "state": {
            "_model_module": "@jupyter-widgets/controls",
            "_model_module_version": "1.5.0",
            "_model_name": "ProgressStyleModel",
            "_view_count": null,
            "_view_module": "@jupyter-widgets/base",
            "_view_module_version": "1.2.0",
            "_view_name": "StyleView",
            "bar_color": null,
            "description_width": ""
          }
        },
        "39fe8c1b26104df3b57f18604311a9e6": {
          "model_module": "@jupyter-widgets/controls",
          "model_module_version": "1.5.0",
          "model_name": "HBoxModel",
          "state": {
            "_dom_classes": [],
            "_model_module": "@jupyter-widgets/controls",
            "_model_module_version": "1.5.0",
            "_model_name": "HBoxModel",
            "_view_count": null,
            "_view_module": "@jupyter-widgets/controls",
            "_view_module_version": "1.5.0",
            "_view_name": "HBoxView",
            "box_style": "",
            "children": [
              "IPY_MODEL_9d2adda66a444048b752f2e906232c5f",
              "IPY_MODEL_858e1e7850cf4fd5b7f93db110153cd9",
              "IPY_MODEL_2e9ab2d8f1234e3eaa893bfb1c4f0445"
            ],
            "layout": "IPY_MODEL_9f71ee12d9324e6f8c3eb06bf3eab1b6"
          }
        },
        "46c4e42f9c4b455a8b64abc3cf7f84fe": {
          "model_module": "@jupyter-widgets/controls",
          "model_module_version": "1.5.0",
          "model_name": "DescriptionStyleModel",
          "state": {
            "_model_module": "@jupyter-widgets/controls",
            "_model_module_version": "1.5.0",
            "_model_name": "DescriptionStyleModel",
            "_view_count": null,
            "_view_module": "@jupyter-widgets/base",
            "_view_module_version": "1.2.0",
            "_view_name": "StyleView",
            "description_width": ""
          }
        },
        "46e0c46bc3a64697818d0da3578fc83f": {
          "model_module": "@jupyter-widgets/base",
          "model_module_version": "1.2.0",
          "model_name": "LayoutModel",
          "state": {
            "_model_module": "@jupyter-widgets/base",
            "_model_module_version": "1.2.0",
            "_model_name": "LayoutModel",
            "_view_count": null,
            "_view_module": "@jupyter-widgets/base",
            "_view_module_version": "1.2.0",
            "_view_name": "LayoutView",
            "align_content": null,
            "align_items": null,
            "align_self": null,
            "border": null,
            "bottom": null,
            "display": null,
            "flex": null,
            "flex_flow": null,
            "grid_area": null,
            "grid_auto_columns": null,
            "grid_auto_flow": null,
            "grid_auto_rows": null,
            "grid_column": null,
            "grid_gap": null,
            "grid_row": null,
            "grid_template_areas": null,
            "grid_template_columns": null,
            "grid_template_rows": null,
            "height": null,
            "justify_content": null,
            "justify_items": null,
            "left": null,
            "margin": null,
            "max_height": null,
            "max_width": null,
            "min_height": null,
            "min_width": null,
            "object_fit": null,
            "object_position": null,
            "order": null,
            "overflow": null,
            "overflow_x": null,
            "overflow_y": null,
            "padding": null,
            "right": null,
            "top": null,
            "visibility": null,
            "width": null
          }
        },
        "479acf8cae91401d8e0624e208fb5eef": {
          "model_module": "@jupyter-widgets/controls",
          "model_module_version": "1.5.0",
          "model_name": "DescriptionStyleModel",
          "state": {
            "_model_module": "@jupyter-widgets/controls",
            "_model_module_version": "1.5.0",
            "_model_name": "DescriptionStyleModel",
            "_view_count": null,
            "_view_module": "@jupyter-widgets/base",
            "_view_module_version": "1.2.0",
            "_view_name": "StyleView",
            "description_width": ""
          }
        },
        "4f6e113453d04940add46d230a2db402": {
          "model_module": "@jupyter-widgets/base",
          "model_module_version": "1.2.0",
          "model_name": "LayoutModel",
          "state": {
            "_model_module": "@jupyter-widgets/base",
            "_model_module_version": "1.2.0",
            "_model_name": "LayoutModel",
            "_view_count": null,
            "_view_module": "@jupyter-widgets/base",
            "_view_module_version": "1.2.0",
            "_view_name": "LayoutView",
            "align_content": null,
            "align_items": null,
            "align_self": null,
            "border": null,
            "bottom": null,
            "display": null,
            "flex": null,
            "flex_flow": null,
            "grid_area": null,
            "grid_auto_columns": null,
            "grid_auto_flow": null,
            "grid_auto_rows": null,
            "grid_column": null,
            "grid_gap": null,
            "grid_row": null,
            "grid_template_areas": null,
            "grid_template_columns": null,
            "grid_template_rows": null,
            "height": null,
            "justify_content": null,
            "justify_items": null,
            "left": null,
            "margin": null,
            "max_height": null,
            "max_width": null,
            "min_height": null,
            "min_width": null,
            "object_fit": null,
            "object_position": null,
            "order": null,
            "overflow": null,
            "overflow_x": null,
            "overflow_y": null,
            "padding": null,
            "right": null,
            "top": null,
            "visibility": null,
            "width": null
          }
        },
        "523cd14fc5db4830bde624c0c99a1346": {
          "model_module": "@jupyter-widgets/base",
          "model_module_version": "1.2.0",
          "model_name": "LayoutModel",
          "state": {
            "_model_module": "@jupyter-widgets/base",
            "_model_module_version": "1.2.0",
            "_model_name": "LayoutModel",
            "_view_count": null,
            "_view_module": "@jupyter-widgets/base",
            "_view_module_version": "1.2.0",
            "_view_name": "LayoutView",
            "align_content": null,
            "align_items": null,
            "align_self": null,
            "border": null,
            "bottom": null,
            "display": null,
            "flex": null,
            "flex_flow": null,
            "grid_area": null,
            "grid_auto_columns": null,
            "grid_auto_flow": null,
            "grid_auto_rows": null,
            "grid_column": null,
            "grid_gap": null,
            "grid_row": null,
            "grid_template_areas": null,
            "grid_template_columns": null,
            "grid_template_rows": null,
            "height": null,
            "justify_content": null,
            "justify_items": null,
            "left": null,
            "margin": null,
            "max_height": null,
            "max_width": null,
            "min_height": null,
            "min_width": null,
            "object_fit": null,
            "object_position": null,
            "order": null,
            "overflow": null,
            "overflow_x": null,
            "overflow_y": null,
            "padding": null,
            "right": null,
            "top": null,
            "visibility": null,
            "width": null
          }
        },
        "5b3fa526aa334168856dc935f8ec72fb": {
          "model_module": "@jupyter-widgets/base",
          "model_module_version": "1.2.0",
          "model_name": "LayoutModel",
          "state": {
            "_model_module": "@jupyter-widgets/base",
            "_model_module_version": "1.2.0",
            "_model_name": "LayoutModel",
            "_view_count": null,
            "_view_module": "@jupyter-widgets/base",
            "_view_module_version": "1.2.0",
            "_view_name": "LayoutView",
            "align_content": null,
            "align_items": null,
            "align_self": null,
            "border": null,
            "bottom": null,
            "display": null,
            "flex": null,
            "flex_flow": null,
            "grid_area": null,
            "grid_auto_columns": null,
            "grid_auto_flow": null,
            "grid_auto_rows": null,
            "grid_column": null,
            "grid_gap": null,
            "grid_row": null,
            "grid_template_areas": null,
            "grid_template_columns": null,
            "grid_template_rows": null,
            "height": null,
            "justify_content": null,
            "justify_items": null,
            "left": null,
            "margin": null,
            "max_height": null,
            "max_width": null,
            "min_height": null,
            "min_width": null,
            "object_fit": null,
            "object_position": null,
            "order": null,
            "overflow": null,
            "overflow_x": null,
            "overflow_y": null,
            "padding": null,
            "right": null,
            "top": null,
            "visibility": null,
            "width": null
          }
        },
        "656bf366bf754ca5bab974edf97231c3": {
          "model_module": "@jupyter-widgets/base",
          "model_module_version": "1.2.0",
          "model_name": "LayoutModel",
          "state": {
            "_model_module": "@jupyter-widgets/base",
            "_model_module_version": "1.2.0",
            "_model_name": "LayoutModel",
            "_view_count": null,
            "_view_module": "@jupyter-widgets/base",
            "_view_module_version": "1.2.0",
            "_view_name": "LayoutView",
            "align_content": null,
            "align_items": null,
            "align_self": null,
            "border": null,
            "bottom": null,
            "display": null,
            "flex": null,
            "flex_flow": null,
            "grid_area": null,
            "grid_auto_columns": null,
            "grid_auto_flow": null,
            "grid_auto_rows": null,
            "grid_column": null,
            "grid_gap": null,
            "grid_row": null,
            "grid_template_areas": null,
            "grid_template_columns": null,
            "grid_template_rows": null,
            "height": null,
            "justify_content": null,
            "justify_items": null,
            "left": null,
            "margin": null,
            "max_height": null,
            "max_width": null,
            "min_height": null,
            "min_width": null,
            "object_fit": null,
            "object_position": null,
            "order": null,
            "overflow": null,
            "overflow_x": null,
            "overflow_y": null,
            "padding": null,
            "right": null,
            "top": null,
            "visibility": null,
            "width": null
          }
        },
        "66e2d73ce36d4afeadc2b3ee40937d64": {
          "model_module": "@jupyter-widgets/base",
          "model_module_version": "1.2.0",
          "model_name": "LayoutModel",
          "state": {
            "_model_module": "@jupyter-widgets/base",
            "_model_module_version": "1.2.0",
            "_model_name": "LayoutModel",
            "_view_count": null,
            "_view_module": "@jupyter-widgets/base",
            "_view_module_version": "1.2.0",
            "_view_name": "LayoutView",
            "align_content": null,
            "align_items": null,
            "align_self": null,
            "border": null,
            "bottom": null,
            "display": null,
            "flex": null,
            "flex_flow": null,
            "grid_area": null,
            "grid_auto_columns": null,
            "grid_auto_flow": null,
            "grid_auto_rows": null,
            "grid_column": null,
            "grid_gap": null,
            "grid_row": null,
            "grid_template_areas": null,
            "grid_template_columns": null,
            "grid_template_rows": null,
            "height": null,
            "justify_content": null,
            "justify_items": null,
            "left": null,
            "margin": null,
            "max_height": null,
            "max_width": null,
            "min_height": null,
            "min_width": null,
            "object_fit": null,
            "object_position": null,
            "order": null,
            "overflow": null,
            "overflow_x": null,
            "overflow_y": null,
            "padding": null,
            "right": null,
            "top": null,
            "visibility": null,
            "width": null
          }
        },
        "68a6cbaa83024b89bb03d0dae6d13b57": {
          "model_module": "@jupyter-widgets/controls",
          "model_module_version": "1.5.0",
          "model_name": "ProgressStyleModel",
          "state": {
            "_model_module": "@jupyter-widgets/controls",
            "_model_module_version": "1.5.0",
            "_model_name": "ProgressStyleModel",
            "_view_count": null,
            "_view_module": "@jupyter-widgets/base",
            "_view_module_version": "1.2.0",
            "_view_name": "StyleView",
            "bar_color": null,
            "description_width": ""
          }
        },
        "6f89de9da2a14fefbd262ca1295e0fd0": {
          "model_module": "@jupyter-widgets/controls",
          "model_module_version": "1.5.0",
          "model_name": "HBoxModel",
          "state": {
            "_dom_classes": [],
            "_model_module": "@jupyter-widgets/controls",
            "_model_module_version": "1.5.0",
            "_model_name": "HBoxModel",
            "_view_count": null,
            "_view_module": "@jupyter-widgets/controls",
            "_view_module_version": "1.5.0",
            "_view_name": "HBoxView",
            "box_style": "",
            "children": [
              "IPY_MODEL_22285b38d2d24301a364c86cfd705d8d",
              "IPY_MODEL_e12c8a3a45284c4e993a957b5220de7a",
              "IPY_MODEL_d01737d879764f98978e901ac8583fac"
            ],
            "layout": "IPY_MODEL_85e53a2faa8a49d0958def1fad676085"
          }
        },
        "7969185850b04f82bf1129ca7e2eaef7": {
          "model_module": "@jupyter-widgets/controls",
          "model_module_version": "1.5.0",
          "model_name": "ProgressStyleModel",
          "state": {
            "_model_module": "@jupyter-widgets/controls",
            "_model_module_version": "1.5.0",
            "_model_name": "ProgressStyleModel",
            "_view_count": null,
            "_view_module": "@jupyter-widgets/base",
            "_view_module_version": "1.2.0",
            "_view_name": "StyleView",
            "bar_color": null,
            "description_width": ""
          }
        },
        "7c4bcfe8ad274f398b006bf527c4a83f": {
          "model_module": "@jupyter-widgets/base",
          "model_module_version": "1.2.0",
          "model_name": "LayoutModel",
          "state": {
            "_model_module": "@jupyter-widgets/base",
            "_model_module_version": "1.2.0",
            "_model_name": "LayoutModel",
            "_view_count": null,
            "_view_module": "@jupyter-widgets/base",
            "_view_module_version": "1.2.0",
            "_view_name": "LayoutView",
            "align_content": null,
            "align_items": null,
            "align_self": null,
            "border": null,
            "bottom": null,
            "display": null,
            "flex": null,
            "flex_flow": null,
            "grid_area": null,
            "grid_auto_columns": null,
            "grid_auto_flow": null,
            "grid_auto_rows": null,
            "grid_column": null,
            "grid_gap": null,
            "grid_row": null,
            "grid_template_areas": null,
            "grid_template_columns": null,
            "grid_template_rows": null,
            "height": null,
            "justify_content": null,
            "justify_items": null,
            "left": null,
            "margin": null,
            "max_height": null,
            "max_width": null,
            "min_height": null,
            "min_width": null,
            "object_fit": null,
            "object_position": null,
            "order": null,
            "overflow": null,
            "overflow_x": null,
            "overflow_y": null,
            "padding": null,
            "right": null,
            "top": null,
            "visibility": null,
            "width": null
          }
        },
        "80118975391b4c2c960a1645ccb7106d": {
          "model_module": "@jupyter-widgets/controls",
          "model_module_version": "1.5.0",
          "model_name": "DescriptionStyleModel",
          "state": {
            "_model_module": "@jupyter-widgets/controls",
            "_model_module_version": "1.5.0",
            "_model_name": "DescriptionStyleModel",
            "_view_count": null,
            "_view_module": "@jupyter-widgets/base",
            "_view_module_version": "1.2.0",
            "_view_name": "StyleView",
            "description_width": ""
          }
        },
        "858e1e7850cf4fd5b7f93db110153cd9": {
          "model_module": "@jupyter-widgets/controls",
          "model_module_version": "1.5.0",
          "model_name": "FloatProgressModel",
          "state": {
            "_dom_classes": [],
            "_model_module": "@jupyter-widgets/controls",
            "_model_module_version": "1.5.0",
            "_model_name": "FloatProgressModel",
            "_view_count": null,
            "_view_module": "@jupyter-widgets/controls",
            "_view_module_version": "1.5.0",
            "_view_name": "ProgressView",
            "bar_style": "success",
            "description": "",
            "description_tooltip": null,
            "layout": "IPY_MODEL_4f6e113453d04940add46d230a2db402",
            "max": 28,
            "min": 0,
            "orientation": "horizontal",
            "style": "IPY_MODEL_c60fd3d8fdda4d7e929633a92da9544a",
            "value": 28
          }
        },
        "85e53a2faa8a49d0958def1fad676085": {
          "model_module": "@jupyter-widgets/base",
          "model_module_version": "1.2.0",
          "model_name": "LayoutModel",
          "state": {
            "_model_module": "@jupyter-widgets/base",
            "_model_module_version": "1.2.0",
            "_model_name": "LayoutModel",
            "_view_count": null,
            "_view_module": "@jupyter-widgets/base",
            "_view_module_version": "1.2.0",
            "_view_name": "LayoutView",
            "align_content": null,
            "align_items": null,
            "align_self": null,
            "border": null,
            "bottom": null,
            "display": null,
            "flex": null,
            "flex_flow": null,
            "grid_area": null,
            "grid_auto_columns": null,
            "grid_auto_flow": null,
            "grid_auto_rows": null,
            "grid_column": null,
            "grid_gap": null,
            "grid_row": null,
            "grid_template_areas": null,
            "grid_template_columns": null,
            "grid_template_rows": null,
            "height": null,
            "justify_content": null,
            "justify_items": null,
            "left": null,
            "margin": null,
            "max_height": null,
            "max_width": null,
            "min_height": null,
            "min_width": null,
            "object_fit": null,
            "object_position": null,
            "order": null,
            "overflow": null,
            "overflow_x": null,
            "overflow_y": null,
            "padding": null,
            "right": null,
            "top": null,
            "visibility": null,
            "width": null
          }
        },
        "899bde7b568d4c14808af74360ced44d": {
          "model_module": "@jupyter-widgets/controls",
          "model_module_version": "1.5.0",
          "model_name": "HTMLModel",
          "state": {
            "_dom_classes": [],
            "_model_module": "@jupyter-widgets/controls",
            "_model_module_version": "1.5.0",
            "_model_name": "HTMLModel",
            "_view_count": null,
            "_view_module": "@jupyter-widgets/controls",
            "_view_module_version": "1.5.0",
            "_view_name": "HTMLView",
            "description": "",
            "description_tooltip": null,
            "layout": "IPY_MODEL_e6ee9a2839304e30827cfb4a06647c85",
            "placeholder": "​",
            "style": "IPY_MODEL_479acf8cae91401d8e0624e208fb5eef",
            "value": " 466k/466k [00:00&lt;00:00, 9.29MB/s]"
          }
        },
        "8c4df31a7b2b48dba211811f12a4bafa": {
          "model_module": "@jupyter-widgets/controls",
          "model_module_version": "1.5.0",
          "model_name": "HBoxModel",
          "state": {
            "_dom_classes": [],
            "_model_module": "@jupyter-widgets/controls",
            "_model_module_version": "1.5.0",
            "_model_name": "HBoxModel",
            "_view_count": null,
            "_view_module": "@jupyter-widgets/controls",
            "_view_module_version": "1.5.0",
            "_view_name": "HBoxView",
            "box_style": "",
            "children": [
              "IPY_MODEL_96d471e3a11741f0b0c9195458ddd664",
              "IPY_MODEL_ea1db2fb51864fb6a109de800ec34aae",
              "IPY_MODEL_f7e1d12304de44aa825173dba36a74bb"
            ],
            "layout": "IPY_MODEL_d7ab57d14c2b48999528599a24778abf"
          }
        },
        "8d84f7bfe1eb45578918a51c76b1bed9": {
          "model_module": "@jupyter-widgets/controls",
          "model_module_version": "1.5.0",
          "model_name": "DescriptionStyleModel",
          "state": {
            "_model_module": "@jupyter-widgets/controls",
            "_model_module_version": "1.5.0",
            "_model_name": "DescriptionStyleModel",
            "_view_count": null,
            "_view_module": "@jupyter-widgets/base",
            "_view_module_version": "1.2.0",
            "_view_name": "StyleView",
            "description_width": ""
          }
        },
        "96d471e3a11741f0b0c9195458ddd664": {
          "model_module": "@jupyter-widgets/controls",
          "model_module_version": "1.5.0",
          "model_name": "HTMLModel",
          "state": {
            "_dom_classes": [],
            "_model_module": "@jupyter-widgets/controls",
            "_model_module_version": "1.5.0",
            "_model_name": "HTMLModel",
            "_view_count": null,
            "_view_module": "@jupyter-widgets/controls",
            "_view_module_version": "1.5.0",
            "_view_name": "HTMLView",
            "description": "",
            "description_tooltip": null,
            "layout": "IPY_MODEL_5b3fa526aa334168856dc935f8ec72fb",
            "placeholder": "​",
            "style": "IPY_MODEL_bb5515dffd064897a9c3e742defa9262",
            "value": "Downloading (…)solve/main/vocab.txt: 100%"
          }
        },
        "9b6793d919334c36ae6ddf420be4362c": {
          "model_module": "@jupyter-widgets/base",
          "model_module_version": "1.2.0",
          "model_name": "LayoutModel",
          "state": {
            "_model_module": "@jupyter-widgets/base",
            "_model_module_version": "1.2.0",
            "_model_name": "LayoutModel",
            "_view_count": null,
            "_view_module": "@jupyter-widgets/base",
            "_view_module_version": "1.2.0",
            "_view_name": "LayoutView",
            "align_content": null,
            "align_items": null,
            "align_self": null,
            "border": null,
            "bottom": null,
            "display": null,
            "flex": null,
            "flex_flow": null,
            "grid_area": null,
            "grid_auto_columns": null,
            "grid_auto_flow": null,
            "grid_auto_rows": null,
            "grid_column": null,
            "grid_gap": null,
            "grid_row": null,
            "grid_template_areas": null,
            "grid_template_columns": null,
            "grid_template_rows": null,
            "height": null,
            "justify_content": null,
            "justify_items": null,
            "left": null,
            "margin": null,
            "max_height": null,
            "max_width": null,
            "min_height": null,
            "min_width": null,
            "object_fit": null,
            "object_position": null,
            "order": null,
            "overflow": null,
            "overflow_x": null,
            "overflow_y": null,
            "padding": null,
            "right": null,
            "top": null,
            "visibility": null,
            "width": null
          }
        },
        "9d2adda66a444048b752f2e906232c5f": {
          "model_module": "@jupyter-widgets/controls",
          "model_module_version": "1.5.0",
          "model_name": "HTMLModel",
          "state": {
            "_dom_classes": [],
            "_model_module": "@jupyter-widgets/controls",
            "_model_module_version": "1.5.0",
            "_model_name": "HTMLModel",
            "_view_count": null,
            "_view_module": "@jupyter-widgets/controls",
            "_view_module_version": "1.5.0",
            "_view_name": "HTMLView",
            "description": "",
            "description_tooltip": null,
            "layout": "IPY_MODEL_656bf366bf754ca5bab974edf97231c3",
            "placeholder": "​",
            "style": "IPY_MODEL_ae5f684a4a464d95b1a1fa0baa6cd686",
            "value": "Downloading (…)okenizer_config.json: 100%"
          }
        },
        "9f71ee12d9324e6f8c3eb06bf3eab1b6": {
          "model_module": "@jupyter-widgets/base",
          "model_module_version": "1.2.0",
          "model_name": "LayoutModel",
          "state": {
            "_model_module": "@jupyter-widgets/base",
            "_model_module_version": "1.2.0",
            "_model_name": "LayoutModel",
            "_view_count": null,
            "_view_module": "@jupyter-widgets/base",
            "_view_module_version": "1.2.0",
            "_view_name": "LayoutView",
            "align_content": null,
            "align_items": null,
            "align_self": null,
            "border": null,
            "bottom": null,
            "display": null,
            "flex": null,
            "flex_flow": null,
            "grid_area": null,
            "grid_auto_columns": null,
            "grid_auto_flow": null,
            "grid_auto_rows": null,
            "grid_column": null,
            "grid_gap": null,
            "grid_row": null,
            "grid_template_areas": null,
            "grid_template_columns": null,
            "grid_template_rows": null,
            "height": null,
            "justify_content": null,
            "justify_items": null,
            "left": null,
            "margin": null,
            "max_height": null,
            "max_width": null,
            "min_height": null,
            "min_width": null,
            "object_fit": null,
            "object_position": null,
            "order": null,
            "overflow": null,
            "overflow_x": null,
            "overflow_y": null,
            "padding": null,
            "right": null,
            "top": null,
            "visibility": null,
            "width": null
          }
        },
        "a12510974cc24e638b851d05a1a91728": {
          "model_module": "@jupyter-widgets/controls",
          "model_module_version": "1.5.0",
          "model_name": "DescriptionStyleModel",
          "state": {
            "_model_module": "@jupyter-widgets/controls",
            "_model_module_version": "1.5.0",
            "_model_name": "DescriptionStyleModel",
            "_view_count": null,
            "_view_module": "@jupyter-widgets/base",
            "_view_module_version": "1.2.0",
            "_view_name": "StyleView",
            "description_width": ""
          }
        },
        "a6f68f441f7e47f689d836cab5ddc832": {
          "model_module": "@jupyter-widgets/base",
          "model_module_version": "1.2.0",
          "model_name": "LayoutModel",
          "state": {
            "_model_module": "@jupyter-widgets/base",
            "_model_module_version": "1.2.0",
            "_model_name": "LayoutModel",
            "_view_count": null,
            "_view_module": "@jupyter-widgets/base",
            "_view_module_version": "1.2.0",
            "_view_name": "LayoutView",
            "align_content": null,
            "align_items": null,
            "align_self": null,
            "border": null,
            "bottom": null,
            "display": null,
            "flex": null,
            "flex_flow": null,
            "grid_area": null,
            "grid_auto_columns": null,
            "grid_auto_flow": null,
            "grid_auto_rows": null,
            "grid_column": null,
            "grid_gap": null,
            "grid_row": null,
            "grid_template_areas": null,
            "grid_template_columns": null,
            "grid_template_rows": null,
            "height": null,
            "justify_content": null,
            "justify_items": null,
            "left": null,
            "margin": null,
            "max_height": null,
            "max_width": null,
            "min_height": null,
            "min_width": null,
            "object_fit": null,
            "object_position": null,
            "order": null,
            "overflow": null,
            "overflow_x": null,
            "overflow_y": null,
            "padding": null,
            "right": null,
            "top": null,
            "visibility": null,
            "width": null
          }
        },
        "a88715888edf4ea3a1aa8c69e26dece0": {
          "model_module": "@jupyter-widgets/base",
          "model_module_version": "1.2.0",
          "model_name": "LayoutModel",
          "state": {
            "_model_module": "@jupyter-widgets/base",
            "_model_module_version": "1.2.0",
            "_model_name": "LayoutModel",
            "_view_count": null,
            "_view_module": "@jupyter-widgets/base",
            "_view_module_version": "1.2.0",
            "_view_name": "LayoutView",
            "align_content": null,
            "align_items": null,
            "align_self": null,
            "border": null,
            "bottom": null,
            "display": null,
            "flex": null,
            "flex_flow": null,
            "grid_area": null,
            "grid_auto_columns": null,
            "grid_auto_flow": null,
            "grid_auto_rows": null,
            "grid_column": null,
            "grid_gap": null,
            "grid_row": null,
            "grid_template_areas": null,
            "grid_template_columns": null,
            "grid_template_rows": null,
            "height": null,
            "justify_content": null,
            "justify_items": null,
            "left": null,
            "margin": null,
            "max_height": null,
            "max_width": null,
            "min_height": null,
            "min_width": null,
            "object_fit": null,
            "object_position": null,
            "order": null,
            "overflow": null,
            "overflow_x": null,
            "overflow_y": null,
            "padding": null,
            "right": null,
            "top": null,
            "visibility": null,
            "width": null
          }
        },
        "ae5f684a4a464d95b1a1fa0baa6cd686": {
          "model_module": "@jupyter-widgets/controls",
          "model_module_version": "1.5.0",
          "model_name": "DescriptionStyleModel",
          "state": {
            "_model_module": "@jupyter-widgets/controls",
            "_model_module_version": "1.5.0",
            "_model_name": "DescriptionStyleModel",
            "_view_count": null,
            "_view_module": "@jupyter-widgets/base",
            "_view_module_version": "1.2.0",
            "_view_name": "StyleView",
            "description_width": ""
          }
        },
        "b4bc580685754d6aafaca40db25204ae": {
          "model_module": "@jupyter-widgets/controls",
          "model_module_version": "1.5.0",
          "model_name": "DescriptionStyleModel",
          "state": {
            "_model_module": "@jupyter-widgets/controls",
            "_model_module_version": "1.5.0",
            "_model_name": "DescriptionStyleModel",
            "_view_count": null,
            "_view_module": "@jupyter-widgets/base",
            "_view_module_version": "1.2.0",
            "_view_name": "StyleView",
            "description_width": ""
          }
        },
        "ba774d45d1344e77841ada3b1db060fd": {
          "model_module": "@jupyter-widgets/controls",
          "model_module_version": "1.5.0",
          "model_name": "ProgressStyleModel",
          "state": {
            "_model_module": "@jupyter-widgets/controls",
            "_model_module_version": "1.5.0",
            "_model_name": "ProgressStyleModel",
            "_view_count": null,
            "_view_module": "@jupyter-widgets/base",
            "_view_module_version": "1.2.0",
            "_view_name": "StyleView",
            "bar_color": null,
            "description_width": ""
          }
        },
        "bb5515dffd064897a9c3e742defa9262": {
          "model_module": "@jupyter-widgets/controls",
          "model_module_version": "1.5.0",
          "model_name": "DescriptionStyleModel",
          "state": {
            "_model_module": "@jupyter-widgets/controls",
            "_model_module_version": "1.5.0",
            "_model_name": "DescriptionStyleModel",
            "_view_count": null,
            "_view_module": "@jupyter-widgets/base",
            "_view_module_version": "1.2.0",
            "_view_name": "StyleView",
            "description_width": ""
          }
        },
        "c60fd3d8fdda4d7e929633a92da9544a": {
          "model_module": "@jupyter-widgets/controls",
          "model_module_version": "1.5.0",
          "model_name": "ProgressStyleModel",
          "state": {
            "_model_module": "@jupyter-widgets/controls",
            "_model_module_version": "1.5.0",
            "_model_name": "ProgressStyleModel",
            "_view_count": null,
            "_view_module": "@jupyter-widgets/base",
            "_view_module_version": "1.2.0",
            "_view_name": "StyleView",
            "bar_color": null,
            "description_width": ""
          }
        },
        "d01737d879764f98978e901ac8583fac": {
          "model_module": "@jupyter-widgets/controls",
          "model_module_version": "1.5.0",
          "model_name": "HTMLModel",
          "state": {
            "_dom_classes": [],
            "_model_module": "@jupyter-widgets/controls",
            "_model_module_version": "1.5.0",
            "_model_name": "HTMLModel",
            "_view_count": null,
            "_view_module": "@jupyter-widgets/controls",
            "_view_module_version": "1.5.0",
            "_view_name": "HTMLView",
            "description": "",
            "description_tooltip": null,
            "layout": "IPY_MODEL_523cd14fc5db4830bde624c0c99a1346",
            "placeholder": "​",
            "style": "IPY_MODEL_2acd748b78ba43b78bc5cea34f9c2ac9",
            "value": " 483/483 [00:00&lt;00:00, 31.7kB/s]"
          }
        },
        "d417b8e81fc3431ea564184931ac6cce": {
          "model_module": "@jupyter-widgets/controls",
          "model_module_version": "1.5.0",
          "model_name": "FloatProgressModel",
          "state": {
            "_dom_classes": [],
            "_model_module": "@jupyter-widgets/controls",
            "_model_module_version": "1.5.0",
            "_model_name": "FloatProgressModel",
            "_view_count": null,
            "_view_module": "@jupyter-widgets/controls",
            "_view_module_version": "1.5.0",
            "_view_name": "ProgressView",
            "bar_style": "success",
            "description": "",
            "description_tooltip": null,
            "layout": "IPY_MODEL_f9826f243db64193baff1c82ff60f5b9",
            "max": 267954768,
            "min": 0,
            "orientation": "horizontal",
            "style": "IPY_MODEL_68a6cbaa83024b89bb03d0dae6d13b57",
            "value": 267954768
          }
        },
        "d7ab57d14c2b48999528599a24778abf": {
          "model_module": "@jupyter-widgets/base",
          "model_module_version": "1.2.0",
          "model_name": "LayoutModel",
          "state": {
            "_model_module": "@jupyter-widgets/base",
            "_model_module_version": "1.2.0",
            "_model_name": "LayoutModel",
            "_view_count": null,
            "_view_module": "@jupyter-widgets/base",
            "_view_module_version": "1.2.0",
            "_view_name": "LayoutView",
            "align_content": null,
            "align_items": null,
            "align_self": null,
            "border": null,
            "bottom": null,
            "display": null,
            "flex": null,
            "flex_flow": null,
            "grid_area": null,
            "grid_auto_columns": null,
            "grid_auto_flow": null,
            "grid_auto_rows": null,
            "grid_column": null,
            "grid_gap": null,
            "grid_row": null,
            "grid_template_areas": null,
            "grid_template_columns": null,
            "grid_template_rows": null,
            "height": null,
            "justify_content": null,
            "justify_items": null,
            "left": null,
            "margin": null,
            "max_height": null,
            "max_width": null,
            "min_height": null,
            "min_width": null,
            "object_fit": null,
            "object_position": null,
            "order": null,
            "overflow": null,
            "overflow_x": null,
            "overflow_y": null,
            "padding": null,
            "right": null,
            "top": null,
            "visibility": null,
            "width": null
          }
        },
        "da89bf6f7d4b40cf9ed3a12d791149c8": {
          "model_module": "@jupyter-widgets/controls",
          "model_module_version": "1.5.0",
          "model_name": "HBoxModel",
          "state": {
            "_dom_classes": [],
            "_model_module": "@jupyter-widgets/controls",
            "_model_module_version": "1.5.0",
            "_model_name": "HBoxModel",
            "_view_count": null,
            "_view_module": "@jupyter-widgets/controls",
            "_view_module_version": "1.5.0",
            "_view_name": "HBoxView",
            "box_style": "",
            "children": [
              "IPY_MODEL_e924a8af63ce4d1cb7b03e15b8ce7b66",
              "IPY_MODEL_dc2b16b5a5d549f99a31b5728174c822",
              "IPY_MODEL_899bde7b568d4c14808af74360ced44d"
            ],
            "layout": "IPY_MODEL_174c335335184438a109b07c03f7d541"
          }
        },
        "dc2b16b5a5d549f99a31b5728174c822": {
          "model_module": "@jupyter-widgets/controls",
          "model_module_version": "1.5.0",
          "model_name": "FloatProgressModel",
          "state": {
            "_dom_classes": [],
            "_model_module": "@jupyter-widgets/controls",
            "_model_module_version": "1.5.0",
            "_model_name": "FloatProgressModel",
            "_view_count": null,
            "_view_module": "@jupyter-widgets/controls",
            "_view_module_version": "1.5.0",
            "_view_name": "ProgressView",
            "bar_style": "success",
            "description": "",
            "description_tooltip": null,
            "layout": "IPY_MODEL_23a4d52e8e624474aec91045be71e6fe",
            "max": 466062,
            "min": 0,
            "orientation": "horizontal",
            "style": "IPY_MODEL_7969185850b04f82bf1129ca7e2eaef7",
            "value": 466062
          }
        },
        "e12c8a3a45284c4e993a957b5220de7a": {
          "model_module": "@jupyter-widgets/controls",
          "model_module_version": "1.5.0",
          "model_name": "FloatProgressModel",
          "state": {
            "_dom_classes": [],
            "_model_module": "@jupyter-widgets/controls",
            "_model_module_version": "1.5.0",
            "_model_name": "FloatProgressModel",
            "_view_count": null,
            "_view_module": "@jupyter-widgets/controls",
            "_view_module_version": "1.5.0",
            "_view_name": "ProgressView",
            "bar_style": "success",
            "description": "",
            "description_tooltip": null,
            "layout": "IPY_MODEL_9b6793d919334c36ae6ddf420be4362c",
            "max": 483,
            "min": 0,
            "orientation": "horizontal",
            "style": "IPY_MODEL_38b577ec41f542c6b71ab3b0db40c7aa",
            "value": 483
          }
        },
        "e6ee9a2839304e30827cfb4a06647c85": {
          "model_module": "@jupyter-widgets/base",
          "model_module_version": "1.2.0",
          "model_name": "LayoutModel",
          "state": {
            "_model_module": "@jupyter-widgets/base",
            "_model_module_version": "1.2.0",
            "_model_name": "LayoutModel",
            "_view_count": null,
            "_view_module": "@jupyter-widgets/base",
            "_view_module_version": "1.2.0",
            "_view_name": "LayoutView",
            "align_content": null,
            "align_items": null,
            "align_self": null,
            "border": null,
            "bottom": null,
            "display": null,
            "flex": null,
            "flex_flow": null,
            "grid_area": null,
            "grid_auto_columns": null,
            "grid_auto_flow": null,
            "grid_auto_rows": null,
            "grid_column": null,
            "grid_gap": null,
            "grid_row": null,
            "grid_template_areas": null,
            "grid_template_columns": null,
            "grid_template_rows": null,
            "height": null,
            "justify_content": null,
            "justify_items": null,
            "left": null,
            "margin": null,
            "max_height": null,
            "max_width": null,
            "min_height": null,
            "min_width": null,
            "object_fit": null,
            "object_position": null,
            "order": null,
            "overflow": null,
            "overflow_x": null,
            "overflow_y": null,
            "padding": null,
            "right": null,
            "top": null,
            "visibility": null,
            "width": null
          }
        },
        "e924a8af63ce4d1cb7b03e15b8ce7b66": {
          "model_module": "@jupyter-widgets/controls",
          "model_module_version": "1.5.0",
          "model_name": "HTMLModel",
          "state": {
            "_dom_classes": [],
            "_model_module": "@jupyter-widgets/controls",
            "_model_module_version": "1.5.0",
            "_model_name": "HTMLModel",
            "_view_count": null,
            "_view_module": "@jupyter-widgets/controls",
            "_view_module_version": "1.5.0",
            "_view_name": "HTMLView",
            "description": "",
            "description_tooltip": null,
            "layout": "IPY_MODEL_07252e7eaa2941f79e862766bd471b55",
            "placeholder": "​",
            "style": "IPY_MODEL_8d84f7bfe1eb45578918a51c76b1bed9",
            "value": "Downloading (…)/main/tokenizer.json: 100%"
          }
        },
        "ea1db2fb51864fb6a109de800ec34aae": {
          "model_module": "@jupyter-widgets/controls",
          "model_module_version": "1.5.0",
          "model_name": "FloatProgressModel",
          "state": {
            "_dom_classes": [],
            "_model_module": "@jupyter-widgets/controls",
            "_model_module_version": "1.5.0",
            "_model_name": "FloatProgressModel",
            "_view_count": null,
            "_view_module": "@jupyter-widgets/controls",
            "_view_module_version": "1.5.0",
            "_view_name": "ProgressView",
            "bar_style": "success",
            "description": "",
            "description_tooltip": null,
            "layout": "IPY_MODEL_a6f68f441f7e47f689d836cab5ddc832",
            "max": 231508,
            "min": 0,
            "orientation": "horizontal",
            "style": "IPY_MODEL_ba774d45d1344e77841ada3b1db060fd",
            "value": 231508
          }
        },
        "f4000d3e06804cb7aa95267887e72f8f": {
          "model_module": "@jupyter-widgets/controls",
          "model_module_version": "1.5.0",
          "model_name": "HBoxModel",
          "state": {
            "_dom_classes": [],
            "_model_module": "@jupyter-widgets/controls",
            "_model_module_version": "1.5.0",
            "_model_name": "HBoxModel",
            "_view_count": null,
            "_view_module": "@jupyter-widgets/controls",
            "_view_module_version": "1.5.0",
            "_view_name": "HBoxView",
            "box_style": "",
            "children": [
              "IPY_MODEL_f75c2321a3094cedb4d2773599025c45",
              "IPY_MODEL_d417b8e81fc3431ea564184931ac6cce",
              "IPY_MODEL_0e6773b289c1457cb2daa6d162990ef4"
            ],
            "layout": "IPY_MODEL_a88715888edf4ea3a1aa8c69e26dece0"
          }
        },
        "f515362c13ac4903874068776715e6dd": {
          "model_module": "@jupyter-widgets/base",
          "model_module_version": "1.2.0",
          "model_name": "LayoutModel",
          "state": {
            "_model_module": "@jupyter-widgets/base",
            "_model_module_version": "1.2.0",
            "_model_name": "LayoutModel",
            "_view_count": null,
            "_view_module": "@jupyter-widgets/base",
            "_view_module_version": "1.2.0",
            "_view_name": "LayoutView",
            "align_content": null,
            "align_items": null,
            "align_self": null,
            "border": null,
            "bottom": null,
            "display": null,
            "flex": null,
            "flex_flow": null,
            "grid_area": null,
            "grid_auto_columns": null,
            "grid_auto_flow": null,
            "grid_auto_rows": null,
            "grid_column": null,
            "grid_gap": null,
            "grid_row": null,
            "grid_template_areas": null,
            "grid_template_columns": null,
            "grid_template_rows": null,
            "height": null,
            "justify_content": null,
            "justify_items": null,
            "left": null,
            "margin": null,
            "max_height": null,
            "max_width": null,
            "min_height": null,
            "min_width": null,
            "object_fit": null,
            "object_position": null,
            "order": null,
            "overflow": null,
            "overflow_x": null,
            "overflow_y": null,
            "padding": null,
            "right": null,
            "top": null,
            "visibility": null,
            "width": null
          }
        },
        "f75c2321a3094cedb4d2773599025c45": {
          "model_module": "@jupyter-widgets/controls",
          "model_module_version": "1.5.0",
          "model_name": "HTMLModel",
          "state": {
            "_dom_classes": [],
            "_model_module": "@jupyter-widgets/controls",
            "_model_module_version": "1.5.0",
            "_model_name": "HTMLModel",
            "_view_count": null,
            "_view_module": "@jupyter-widgets/controls",
            "_view_module_version": "1.5.0",
            "_view_name": "HTMLView",
            "description": "",
            "description_tooltip": null,
            "layout": "IPY_MODEL_46e0c46bc3a64697818d0da3578fc83f",
            "placeholder": "​",
            "style": "IPY_MODEL_b4bc580685754d6aafaca40db25204ae",
            "value": "Downloading model.safetensors: 100%"
          }
        },
        "f7e1d12304de44aa825173dba36a74bb": {
          "model_module": "@jupyter-widgets/controls",
          "model_module_version": "1.5.0",
          "model_name": "HTMLModel",
          "state": {
            "_dom_classes": [],
            "_model_module": "@jupyter-widgets/controls",
            "_model_module_version": "1.5.0",
            "_model_name": "HTMLModel",
            "_view_count": null,
            "_view_module": "@jupyter-widgets/controls",
            "_view_module_version": "1.5.0",
            "_view_name": "HTMLView",
            "description": "",
            "description_tooltip": null,
            "layout": "IPY_MODEL_0328102fc7634de09e1281a8222161c3",
            "placeholder": "​",
            "style": "IPY_MODEL_a12510974cc24e638b851d05a1a91728",
            "value": " 232k/232k [00:00&lt;00:00, 3.56MB/s]"
          }
        },
        "f9826f243db64193baff1c82ff60f5b9": {
          "model_module": "@jupyter-widgets/base",
          "model_module_version": "1.2.0",
          "model_name": "LayoutModel",
          "state": {
            "_model_module": "@jupyter-widgets/base",
            "_model_module_version": "1.2.0",
            "_model_name": "LayoutModel",
            "_view_count": null,
            "_view_module": "@jupyter-widgets/base",
            "_view_module_version": "1.2.0",
            "_view_name": "LayoutView",
            "align_content": null,
            "align_items": null,
            "align_self": null,
            "border": null,
            "bottom": null,
            "display": null,
            "flex": null,
            "flex_flow": null,
            "grid_area": null,
            "grid_auto_columns": null,
            "grid_auto_flow": null,
            "grid_auto_rows": null,
            "grid_column": null,
            "grid_gap": null,
            "grid_row": null,
            "grid_template_areas": null,
            "grid_template_columns": null,
            "grid_template_rows": null,
            "height": null,
            "justify_content": null,
            "justify_items": null,
            "left": null,
            "margin": null,
            "max_height": null,
            "max_width": null,
            "min_height": null,
            "min_width": null,
            "object_fit": null,
            "object_position": null,
            "order": null,
            "overflow": null,
            "overflow_x": null,
            "overflow_y": null,
            "padding": null,
            "right": null,
            "top": null,
            "visibility": null,
            "width": null
          }
        },
        "fe88843682b141ebac8401788a7dd2cd": {
          "model_module": "@jupyter-widgets/controls",
          "model_module_version": "1.5.0",
          "model_name": "DescriptionStyleModel",
          "state": {
            "_model_module": "@jupyter-widgets/controls",
            "_model_module_version": "1.5.0",
            "_model_name": "DescriptionStyleModel",
            "_view_count": null,
            "_view_module": "@jupyter-widgets/base",
            "_view_module_version": "1.2.0",
            "_view_name": "StyleView",
            "description_width": ""
          }
        }
      }
    }
  },
  "nbformat": 4,
  "nbformat_minor": 0
}
